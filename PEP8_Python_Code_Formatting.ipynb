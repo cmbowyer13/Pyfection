{
 "cells": [
  {
   "cell_type": "markdown",
   "metadata": {},
   "source": [
    "# Goal of Post#2 : provide a discussion of the main aspects of PEP8, the Python formatting guidelines for everything you may stick in your .py file or python based notebook. Throughout, I will focus on the main points I see as important and will explain the show the correct way to do something as opposed to the wrong way which there are millions.  Also the zen of python I recall states there should be one apparent way to Python some piece of code. After showing what the pep8 says about a topic and showing a code example, I will discuss in the code cell beneath. Some examples taken and adapted from: https://www.python.org/dev/peps/pep-0008/"
   ]
  },
  {
   "cell_type": "markdown",
   "metadata": {},
   "source": [
    "# Indentation"
   ]
  },
  {
   "cell_type": "code",
   "execution_count": null,
   "metadata": {},
   "outputs": [],
   "source": [
    "# Aligned with opening delimiter.\n",
    "foo = long_function_name(var_one, var_two,\n",
    "                         var_three, var_four)\n",
    "\n",
    "# More indentation included to distinguish this from the rest.\n",
    "def long_function_name(\n",
    "        var_one, var_two, var_three,\n",
    "        var_four):\n",
    "    print(var_one)\n",
    "\n",
    "# Hanging indents should add a level.\n",
    "foo = long_function_name(\n",
    "    var_one, var_two,\n",
    "    var_three, var_four)"
   ]
  },
  {
   "cell_type": "markdown",
   "metadata": {},
   "source": [
    "All of the above formatting is approved by pep8, and it is worthwhile to mention it is taking adavantage of Python's implied line continuation by the opening and closing parenthesis being on multiple lines. "
   ]
  },
  {
   "cell_type": "code",
   "execution_count": null,
   "metadata": {},
   "outputs": [],
   "source": [
    "#The 4-space rule is optional for continuation lines.\n",
    "#Optional:\n",
    "# Hanging indents *may* be indented to other than 4 spaces.\n",
    "foo = long_function_name(\n",
    "  var_one, var_two,\n",
    "  var_three, var_four)"
   ]
  },
  {
   "cell_type": "markdown",
   "metadata": {},
   "source": [
    "# Tabs of Spaces"
   ]
  },
  {
   "cell_type": "raw",
   "metadata": {},
   "source": [
    "# Spaces are the preferred indentation method."
   ]
  },
  {
   "cell_type": "raw",
   "metadata": {},
   "source": [
    "# Maximum Line Length"
   ]
  },
  {
   "cell_type": "code",
   "execution_count": null,
   "metadata": {},
   "outputs": [],
   "source": [
    "# Limit all lines to a maximum of 79 characters.\n",
    "# For flowing long blocks of text with fewer structural restrictions (docstrings or comments), \n",
    "# the line length should be limited to 72 characters.\n",
    "\n",
    "#The preferred way of wrapping long lines is by using Python's implied line continuation inside parentheses, \n",
    "# brackets and braces. Long lines can be broken over multiple lines by wrapping expressions in parentheses. These should be used in preference to using a backslash for line continuation.\n",
    "\n",
    "# Backslashes may still be appropriate at times. \n",
    "# For example, long, multiple with-statements cannot use implicit continuation, so backslashes are acceptable:\n",
    "\n",
    "with open('/path/to/some/file/you/want/to/read') as file_1, \\\n",
    "     open('/path/to/some/file/being/written', 'w') as file_2:\n",
    "    file_2.write(file_1.read())"
   ]
  },
  {
   "cell_type": "markdown",
   "metadata": {},
   "source": [
    "# Should a line break before or after a binary operator"
   ]
  },
  {
   "cell_type": "code",
   "execution_count": null,
   "metadata": {},
   "outputs": [],
   "source": [
    "#Following the tradition from mathematics usually results in more readable code:\n",
    "\n",
    "# Yes: easy to match operators with operands\n",
    "income = (gross_wages\n",
    "          + taxable_interest\n",
    "          + (dividends - qualified_dividends)\n",
    "          - ira_deduction\n",
    "          - student_loan_interest)"
   ]
  },
  {
   "cell_type": "markdown",
   "metadata": {},
   "source": [
    "I think this is easy on the eyes, and fairly easy to remember for long expressions like this"
   ]
  },
  {
   "cell_type": "markdown",
   "metadata": {},
   "source": [
    "# Blank Lines"
   ]
  },
  {
   "cell_type": "code",
   "execution_count": null,
   "metadata": {},
   "outputs": [],
   "source": [
    "# Surround top-level function and class definitions with two blank lines.\n",
    "\n",
    "# Method definitions inside a class are surrounded by a single blank line.\n",
    "\n",
    "# Extra blank lines may be used (sparingly) to separate groups of related functions. Blank lines may be omitted between a bunch of related one-liners (e.g. a set of dummy implementations)."
   ]
  },
  {
   "cell_type": "raw",
   "metadata": {},
   "source": [
    "I think it is best to adhere to these but in my estimation this is not super important. Thoughts?"
   ]
  },
  {
   "cell_type": "markdown",
   "metadata": {},
   "source": [
    "# Source File Encoding"
   ]
  },
  {
   "cell_type": "code",
   "execution_count": null,
   "metadata": {},
   "outputs": [],
   "source": [
    "# Code in the core Python distribution should always use UTF-8 (or ASCII in Python 2).\n",
    "\n",
    "# Files using ASCII (in Python 2) or UTF-8 (in Python 3) should not have an encoding declaration."
   ]
  },
  {
   "cell_type": "raw",
   "metadata": {},
   "source": [
    "Can someone comment on why this is important?"
   ]
  },
  {
   "cell_type": "markdown",
   "metadata": {},
   "source": [
    "# Imports"
   ]
  },
  {
   "cell_type": "code",
   "execution_count": null,
   "metadata": {},
   "outputs": [],
   "source": [
    "#Yes: \n",
    "import os\n",
    "import sys\n",
    "\n",
    "\n",
    "# Imports are always put at the top of the file, \n",
    "# just after any module comments and docstrings, \n",
    "# and before module globals and constants.\n",
    "\n",
    "#Imports should be grouped in the following order:\n",
    "\n",
    "#1) Standard library imports.\n",
    "#2) Related third party imports.\n",
    "#3) Local application/library specific imports.\n",
    "\n",
    "#You should put a blank line between each group of imports."
   ]
  },
  {
   "cell_type": "raw",
   "metadata": {},
   "source": [
    "I've also read that in addition to the import hierarchy just mentioned of standard library, related third party, and local application that dictionary ordering is important. Does that mean within each of these three categories, alphabetical ordering should be enforced? I think that is a nice way to proceed."
   ]
  },
  {
   "cell_type": "markdown",
   "metadata": {},
   "source": [
    "# String Quotes"
   ]
  },
  {
   "cell_type": "code",
   "execution_count": null,
   "metadata": {},
   "outputs": [],
   "source": [
    "#In Python, single-quoted strings and double-quoted strings are the same. \n",
    "# This PEP does not make a recommendation for this. Pick a rule and stick to it. \n",
    "#When a string contains single or double quote characters, however,\n",
    "#use the other one to avoid backslashes in the string. It improves readability.\n",
    "\n",
    "#For triple-quoted strings, always use double quote characters to be consistent with the docstring convention \n",
    "# in PEP 257."
   ]
  },
  {
   "cell_type": "markdown",
   "metadata": {},
   "source": [
    "# White space in expressions "
   ]
  },
  {
   "cell_type": "code",
   "execution_count": null,
   "metadata": {},
   "outputs": [],
   "source": [
    "#Immediately inside parentheses, brackets or braces.\n",
    "#Yes: spam(ham[1], {eggs: 2})\n",
    "\n",
    "\n",
    "#Between a trailing comma and a following close parenthesis.\n",
    "#Yes: foo = (0,)\n",
    "\n",
    "\n",
    "#Immediately before a comma, semicolon, or colon:\n",
    "#Yes: if x == 4: print x, y; x, y = y, x\n",
    "\n",
    "\n",
    "#Immediately before the open parenthesis that starts the argument list of a function call:\n",
    "#Yes: spam(1)\n",
    "\n",
    "\n",
    "#More than one space around an assignment (or other) operator to align it with another.\n",
    "#Yes:\n",
    "#x = 1\n",
    "#y = 2\n",
    "#long_variable = 3"
   ]
  },
  {
   "cell_type": "markdown",
   "metadata": {},
   "source": [
    "# When to use Trailing Commas"
   ]
  },
  {
   "cell_type": "code",
   "execution_count": null,
   "metadata": {},
   "outputs": [],
   "source": [
    "#Trailing commas are usually optional, except they are mandatory when making a tuple of one element \n",
    "#(and in Python 2 they have semantics for the print statement). \n",
    "#For clarity, it is recommended to surround the latter in (technically redundant) parentheses.\n",
    "\n",
    "#Yes:\n",
    "#FILES = ('setup.cfg',)"
   ]
  },
  {
   "cell_type": "markdown",
   "metadata": {},
   "source": [
    "# Comments"
   ]
  },
  {
   "cell_type": "markdown",
   "metadata": {},
   "source": [
    "Comments that contradict the code are worse than no comments. Always make a priority of keeping the comments up-to-date when the code changes!\n",
    "\n",
    "Comments should be complete sentences. The first word should be capitalized, unless it is an identifier that begins with a lower case letter (never alter the case of identifiers!).\n",
    "\n",
    "Block comments generally consist of one or more paragraphs built out of complete sentences, with each sentence ending in a period.\n",
    "\n",
    "You should use two spaces after a sentence-ending period in multi- sentence comments, except after the final sentence.\n",
    "\n",
    "When writing English, follow Strunk and White.\n",
    "\n",
    "Python coders from non-English speaking countries: please write your comments in English, unless you are 120% sure that the code will never be read by people who don't speak your language."
   ]
  },
  {
   "cell_type": "markdown",
   "metadata": {},
   "source": [
    "# Documentation Strings\n",
    "Conventions for writing good documentation strings (a.k.a. \"docstrings\") are immortalized in PEP 257."
   ]
  },
  {
   "cell_type": "markdown",
   "metadata": {},
   "source": [
    "# Naming Conventions"
   ]
  },
  {
   "cell_type": "code",
   "execution_count": null,
   "metadata": {},
   "outputs": [],
   "source": [
    "\"\"\"Package and module names\"\"\"\n",
    "#Modules should have short, all-lowercase names. Underscores can be used in the module name if it improves \n",
    "#readability. Python packages should also have short, all-lowercase names, although the use of underscores \n",
    "#is discouraged.\n",
    "\n",
    "#e.g. module1.py, module2.py\n",
    "\n"
   ]
  },
  {
   "cell_type": "code",
   "execution_count": null,
   "metadata": {},
   "outputs": [],
   "source": [
    "\"\"\"Class names and Exceptions\"\"\"\n",
    "# Class names should normally use the CapWords convention.\n",
    "\n",
    "#e.g. class ThisIsCapsWordConventionForClasses(self, a, b, c):\n",
    "\n"
   ]
  },
  {
   "cell_type": "code",
   "execution_count": null,
   "metadata": {},
   "outputs": [],
   "source": [
    "\"\"\"Functions and Variable names\"\"\"\n",
    "#Function names should be lowercase, with words separated by underscores as necessary to improve readability.\n",
    "\n",
    "#e.g. cross_correlation(), convolution_sum = 1\n",
    "\n",
    "#Variable names follow the same convention as function names.\n",
    "\n",
    "#mixedCase is allowed only in contexts where that's already the prevailing style (e.g. threading.py), \n",
    "#to retain backwards compatibility.\n"
   ]
  },
  {
   "cell_type": "code",
   "execution_count": null,
   "metadata": {},
   "outputs": [],
   "source": [
    "\"\"\"Module Level Constants\"\"\"\n",
    "#Constants are usually defined on a module level and written in all capital letters with underscores \n",
    "# separating words.\n",
    "\n",
    "#e.g. MAX_OVERFLOW, TOTAL etc."
   ]
  }
 ],
 "metadata": {
  "kernelspec": {
   "display_name": "Python 3",
   "language": "python",
   "name": "python3"
  },
  "language_info": {
   "codemirror_mode": {
    "name": "ipython",
    "version": 3
   },
   "file_extension": ".py",
   "mimetype": "text/x-python",
   "name": "python",
   "nbconvert_exporter": "python",
   "pygments_lexer": "ipython3",
   "version": "3.5.5"
  }
 },
 "nbformat": 4,
 "nbformat_minor": 2
}
