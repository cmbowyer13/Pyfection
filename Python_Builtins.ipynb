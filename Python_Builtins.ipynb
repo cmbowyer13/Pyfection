{
 "cells": [
  {
   "cell_type": "markdown",
   "metadata": {},
   "source": [
    "# Code showing the use of the following built in methods, crucial to understand the Python Language core Features"
   ]
  },
  {
   "cell_type": "code",
   "execution_count": 1,
   "metadata": {},
   "outputs": [],
   "source": [
    "# abs()\tdelattr()\thash()\tmemoryview()\tset()\n",
    "# all()\tdict()\thelp()\tmin()\tsetattr()\n",
    "# any()\tdir()\thex()\tnext()\tslice()\n",
    "# ascii()\tdivmod()\tid()\tobject()\tsorted()\n",
    "# bin()\tenumerate()\tinput()\toct()\tstaticmethod()\n",
    "# bool()\teval()\tint()\topen()\tstr()\n",
    "# breakpoint()\texec()\tisinstance()\tord()\tsum()\n",
    "# bytearray()\tfilter()\tissubclass()\tpow()\tsuper()\n",
    "# bytes()\tfloat()\titer()\tprint()\ttuple()\n",
    "# callable()\tformat()\tlen()\tproperty()\ttype()\n",
    "# chr()\tfrozenset()\tlist()\trange()\tvars()\n",
    "# classmethod()\tgetattr()\tlocals()\trepr()\tzip()\n",
    "# compile()\tglobals()\tmap()\treversed()\t__import__()\n",
    "# complex()\thasattr()\tmax()\tround()\t "
   ]
  },
  {
   "cell_type": "code",
   "execution_count": 26,
   "metadata": {},
   "outputs": [
    {
     "name": "stdout",
     "output_type": "stream",
     "text": [
      "Absolute value of -20 is: 20\n",
      "Absolute value of -30.33 is: 30.33\n"
     ]
    }
   ],
   "source": [
    "# random integer\n",
    "integer = -20\n",
    "print('Absolute value of -20 is:', abs(integer))\n",
    "\n",
    "#random floating number\n",
    "floating = -30.33\n",
    "print('Absolute value of -30.33 is:', abs(floating))"
   ]
  },
  {
   "cell_type": "code",
   "execution_count": 2,
   "metadata": {},
   "outputs": [
    {
     "name": "stdout",
     "output_type": "stream",
     "text": [
      "7\n"
     ]
    }
   ],
   "source": [
    "# abs(x), \n",
    "# Return the absolute value of a number. The argument may be an integer or a floating point number. \n",
    "# If the argument is a complex number, its magnitude is returned.\n",
    "\n",
    "x = -7\n",
    "print(abs(x))"
   ]
  },
  {
   "cell_type": "code",
   "execution_count": 3,
   "metadata": {},
   "outputs": [
    {
     "name": "stdout",
     "output_type": "stream",
     "text": [
      "1.4142135623730951\n"
     ]
    }
   ],
   "source": [
    "x = -1 + 1j\n",
    "print(abs(x)) # prints(sqrt(1**2 + 1**2)) from complex math of magnitude of a complex number"
   ]
  },
  {
   "cell_type": "code",
   "execution_count": 27,
   "metadata": {},
   "outputs": [
    {
     "name": "stdout",
     "output_type": "stream",
     "text": [
      "Magnitude of 3 - 4j is: 5.0\n"
     ]
    }
   ],
   "source": [
    "# random complex number\n",
    "complex = (3 - 4j)\n",
    "print('Magnitude of 3 - 4j is:', abs(complex))"
   ]
  },
  {
   "cell_type": "code",
   "execution_count": 4,
   "metadata": {},
   "outputs": [
    {
     "name": "stdout",
     "output_type": "stream",
     "text": [
      "False\n"
     ]
    }
   ],
   "source": [
    "# all(iterable),\n",
    "# Return True if all elements of the iterable are true (or if the iterable is empty)\n",
    "\n",
    "iter1 = [True, True, False]\n",
    "print(all(iter1))"
   ]
  },
  {
   "cell_type": "code",
   "execution_count": 5,
   "metadata": {},
   "outputs": [
    {
     "name": "stdout",
     "output_type": "stream",
     "text": [
      "True\n"
     ]
    }
   ],
   "source": [
    "iter2 = [1, 1, 1-1j] # True == 1, True==1-1j, really for any nonzero number\n",
    "print(all(iter2))"
   ]
  },
  {
   "cell_type": "code",
   "execution_count": 6,
   "metadata": {},
   "outputs": [
    {
     "name": "stdout",
     "output_type": "stream",
     "text": [
      "False\n"
     ]
    }
   ],
   "source": [
    "iter3 = [0, 1, -1]\n",
    "print(all(iter3))"
   ]
  },
  {
   "cell_type": "code",
   "execution_count": null,
   "metadata": {},
   "outputs": [],
   "source": [
    "# all values true\n",
    "l = [1, 3, 4, 5]\n",
    "print(all(l))\n",
    "\n",
    "# all values false\n",
    "l = [0, False]\n",
    "print(all(l))\n",
    "\n",
    "# one false value\n",
    "l = [1, 3, 4, 0]\n",
    "print(all(l))\n",
    "\n",
    "# one true value\n",
    "l = [0, False, 5]\n",
    "print(all(l))\n",
    "\n",
    "# empty iterable\n",
    "l = []\n",
    "print(all(l))"
   ]
  },
  {
   "cell_type": "code",
   "execution_count": null,
   "metadata": {},
   "outputs": [],
   "source": [
    "s = \"This is good\"\n",
    "print(all(s))\n",
    "\n",
    "# 0 is False\n",
    "# '0' is True\n",
    "s = '000'\n",
    "print(all(s))\n",
    "\n",
    "s = ''\n",
    "print(all(s))"
   ]
  },
  {
   "cell_type": "code",
   "execution_count": 31,
   "metadata": {},
   "outputs": [
    {
     "name": "stdout",
     "output_type": "stream",
     "text": [
      "False\n",
      "True\n",
      "False\n",
      "True\n",
      "True\n"
     ]
    }
   ],
   "source": [
    "s = {0: 'False', 1: 'False'}\n",
    "print(all(s))\n",
    "\n",
    "s = {1: 'True', 2: 'True'}\n",
    "print(all(s))\n",
    "\n",
    "s = {1: 'True', False: 0}\n",
    "print(all(s))\n",
    "\n",
    "s = {}\n",
    "print(all(s))\n",
    "\n",
    "# 0 is False\n",
    "# '0' is True\n",
    "s = {'0': 'True'}\n",
    "print(all(s))"
   ]
  },
  {
   "cell_type": "code",
   "execution_count": 7,
   "metadata": {},
   "outputs": [],
   "source": [
    "# equivalent all() def:\n",
    "def all(iterable):\n",
    "    for element in iterable:\n",
    "        if not element:\n",
    "            return False\n",
    "    return True"
   ]
  },
  {
   "cell_type": "code",
   "execution_count": 8,
   "metadata": {},
   "outputs": [
    {
     "name": "stdout",
     "output_type": "stream",
     "text": [
      "True\n"
     ]
    }
   ],
   "source": [
    "# any(iterable),\n",
    "# Return True if any element of the iterable is true. If the iterable is empty, return False. \n",
    "\n",
    "print(any(iter1))"
   ]
  },
  {
   "cell_type": "code",
   "execution_count": 28,
   "metadata": {},
   "outputs": [
    {
     "name": "stdout",
     "output_type": "stream",
     "text": [
      "True\n",
      "False\n",
      "True\n",
      "False\n"
     ]
    }
   ],
   "source": [
    "l = [1, 3, 4, 0]\n",
    "print(any(l))\n",
    "\n",
    "l = [0, False]\n",
    "print(any(l))\n",
    "\n",
    "l = [0, False, 5]\n",
    "print(any(l))\n",
    "\n",
    "l = []\n",
    "print(any(l))"
   ]
  },
  {
   "cell_type": "code",
   "execution_count": 29,
   "metadata": {},
   "outputs": [
    {
     "name": "stdout",
     "output_type": "stream",
     "text": [
      "True\n",
      "True\n",
      "False\n"
     ]
    }
   ],
   "source": [
    "s = \"This is good\"\n",
    "print(any(s))\n",
    "\n",
    "# 0 is False\n",
    "# '0' is True\n",
    "s = '000'\n",
    "print(any(s))\n",
    "\n",
    "s = ''\n",
    "print(any(s))"
   ]
  },
  {
   "cell_type": "code",
   "execution_count": 9,
   "metadata": {},
   "outputs": [
    {
     "name": "stdout",
     "output_type": "stream",
     "text": [
      "False\n"
     ]
    }
   ],
   "source": [
    "print(any([0,0,False]))"
   ]
  },
  {
   "cell_type": "code",
   "execution_count": 30,
   "metadata": {},
   "outputs": [
    {
     "name": "stdout",
     "output_type": "stream",
     "text": [
      "False\n",
      "True\n",
      "False\n",
      "False\n",
      "True\n"
     ]
    }
   ],
   "source": [
    "d = {0: 'False'}\n",
    "print(any(d))\n",
    "\n",
    "d = {0: 'False', 1: 'True'}\n",
    "print(any(d))\n",
    "\n",
    "d = {0: 'False', False: 0}\n",
    "print(any(d))\n",
    "\n",
    "d = {}\n",
    "print(any(d))\n",
    "\n",
    "# 0 is False\n",
    "# '0' is True\n",
    "d = {'0': 'False'}\n",
    "print(any(d))"
   ]
  },
  {
   "cell_type": "code",
   "execution_count": 10,
   "metadata": {},
   "outputs": [],
   "source": [
    "# equivalent any() def:\n",
    "def any(iterable):\n",
    "    for element in iterable:\n",
    "        if element:\n",
    "            return True\n",
    "    return False"
   ]
  },
  {
   "cell_type": "code",
   "execution_count": 11,
   "metadata": {},
   "outputs": [
    {
     "name": "stdout",
     "output_type": "stream",
     "text": [
      "'First Name'\n"
     ]
    }
   ],
   "source": [
    "# ascii(object),\n",
    "# As repr(), return a string containing a printable representation of an object, \n",
    "# but escape the non-ASCII characters in the string returned by repr() using \\x, \\u or \\U escapes. \n",
    "# This generates a string similar to that returned by repr() in Python 2.\n",
    "\n",
    "str1 = \"First Name\"\n",
    "print(ascii(str1))"
   ]
  },
  {
   "cell_type": "code",
   "execution_count": 32,
   "metadata": {},
   "outputs": [
    {
     "name": "stdout",
     "output_type": "stream",
     "text": [
      "'Python is interesting'\n",
      "'Pyth\\xf6n is interesting'\n",
      "Pythön is interesting\n"
     ]
    }
   ],
   "source": [
    "normalText = 'Python is interesting'\n",
    "print(ascii(normalText))\n",
    "\n",
    "otherText = 'Pythön is interesting'\n",
    "print(ascii(otherText))\n",
    "\n",
    "print('Pyth\\xf6n is interesting')"
   ]
  },
  {
   "cell_type": "code",
   "execution_count": 12,
   "metadata": {},
   "outputs": [
    {
     "data": {
      "text/plain": [
       "\"'Name \\\\n Gender'\""
      ]
     },
     "execution_count": 12,
     "metadata": {},
     "output_type": "execute_result"
    }
   ],
   "source": [
    "str2 = \"Name \\n Gender\"\n",
    "ascii(str2)"
   ]
  },
  {
   "cell_type": "code",
   "execution_count": 13,
   "metadata": {},
   "outputs": [
    {
     "name": "stdout",
     "output_type": "stream",
     "text": [
      "0b11\n"
     ]
    }
   ],
   "source": [
    "#bin(x),\n",
    "#Convert an integer number to a binary string prefixed with “0b”. \n",
    "# The result is a valid Python expression. If x is not a Python int object, \n",
    "# it has to define an __index__() method that returns an integer. Some examples:\n",
    "\n",
    "print(bin(3))"
   ]
  },
  {
   "cell_type": "code",
   "execution_count": 14,
   "metadata": {},
   "outputs": [
    {
     "data": {
      "text/plain": [
       "'-0b1010'"
      ]
     },
     "execution_count": 14,
     "metadata": {},
     "output_type": "execute_result"
    }
   ],
   "source": [
    "bin(-10)"
   ]
  },
  {
   "cell_type": "code",
   "execution_count": 15,
   "metadata": {},
   "outputs": [
    {
     "data": {
      "text/plain": [
       "'0b111'"
      ]
     },
     "execution_count": 15,
     "metadata": {},
     "output_type": "execute_result"
    }
   ],
   "source": [
    "bin(7)"
   ]
  },
  {
   "cell_type": "code",
   "execution_count": 16,
   "metadata": {},
   "outputs": [
    {
     "data": {
      "text/plain": [
       "'-0b1'"
      ]
     },
     "execution_count": 16,
     "metadata": {},
     "output_type": "execute_result"
    }
   ],
   "source": [
    "bin(-1) # appears to put -0b in front for negative integers"
   ]
  },
  {
   "cell_type": "code",
   "execution_count": 33,
   "metadata": {},
   "outputs": [
    {
     "name": "stdout",
     "output_type": "stream",
     "text": [
      "The binary equivalent of 5 is: 0b101\n"
     ]
    }
   ],
   "source": [
    "number = 5\n",
    "print('The binary equivalent of 5 is:', bin(number))"
   ]
  },
  {
   "cell_type": "code",
   "execution_count": 35,
   "metadata": {},
   "outputs": [
    {
     "name": "stdout",
     "output_type": "stream",
     "text": [
      "The binary equivalent of quantity is: 0b101\n"
     ]
    }
   ],
   "source": [
    "class Quantity:\n",
    "    apple = 1\n",
    "    orange = 2\n",
    "    grapes = 2\n",
    "    \n",
    "    def __index__(self):\n",
    "        return self.apple + self.orange + self.grapes\n",
    "        \n",
    "print('The binary equivalent of quantity is:', bin(Quantity())) # bin() with a class implementing __index__() "
   ]
  },
  {
   "cell_type": "code",
   "execution_count": 17,
   "metadata": {},
   "outputs": [
    {
     "data": {
      "text/plain": [
       "True"
      ]
     },
     "execution_count": 17,
     "metadata": {},
     "output_type": "execute_result"
    }
   ],
   "source": [
    "# class bool([x])\n",
    "#Return a Boolean value, i.e. one of True or False. \n",
    "#x is converted using the standard truth testing procedure.\n",
    "#If x is false or omitted, this returns False; otherwise it returns True. \n",
    "#The bool class is a subclass of int (see Numeric Types — int, float, complex). \n",
    "#It cannot be subclassed further. Its only instances are False and True (see Boolean Values).\n",
    "\n",
    "x1 = 3\n",
    "x2 = 3.1\n",
    "bool(x2 > x1)"
   ]
  },
  {
   "cell_type": "code",
   "execution_count": 36,
   "metadata": {},
   "outputs": [
    {
     "name": "stdout",
     "output_type": "stream",
     "text": [
      "[] is False\n",
      "[0] is True\n",
      "0.0 is False\n",
      "None is False\n",
      "True is True\n",
      "Easy string is True\n"
     ]
    }
   ],
   "source": [
    "test = []\n",
    "print(test,'is',bool(test))\n",
    "\n",
    "test = [0]\n",
    "print(test,'is',bool(test))\n",
    "\n",
    "test = 0.0\n",
    "print(test,'is',bool(test))\n",
    "\n",
    "test = None\n",
    "print(test,'is',bool(test))\n",
    "\n",
    "test = True\n",
    "print(test,'is',bool(test))\n",
    "\n",
    "test = 'Easy string'\n",
    "print(test,'is',bool(test))"
   ]
  },
  {
   "cell_type": "code",
   "execution_count": 13,
   "metadata": {},
   "outputs": [
    {
     "name": "stdout",
     "output_type": "stream",
     "text": [
      "--Return--\n",
      "> <ipython-input-13-ddb461a3fb8c>(14)<module>()->None\n",
      "-> breakpoint()\n",
      "(Pdb) exit\n"
     ]
    },
    {
     "ename": "BdbQuit",
     "evalue": "",
     "output_type": "error",
     "traceback": [
      "\u001b[0;31m---------------------------------------------------------------------------\u001b[0m",
      "\u001b[0;31mBdbQuit\u001b[0m                                   Traceback (most recent call last)",
      "\u001b[0;32m<ipython-input-13-ddb461a3fb8c>\u001b[0m in \u001b[0;36m<module>\u001b[0;34m\u001b[0m\n\u001b[1;32m     12\u001b[0m \u001b[0mk\u001b[0m \u001b[0;34m=\u001b[0m \u001b[0;34m'name'\u001b[0m\u001b[0;34m\u001b[0m\u001b[0;34m\u001b[0m\u001b[0m\n\u001b[1;32m     13\u001b[0m \u001b[0mj\u001b[0m \u001b[0;34m=\u001b[0m \u001b[0;34m'5'\u001b[0m\u001b[0;34m\u001b[0m\u001b[0;34m\u001b[0m\u001b[0m\n\u001b[0;32m---> 14\u001b[0;31m \u001b[0mbreakpoint\u001b[0m\u001b[0;34m(\u001b[0m\u001b[0;34m)\u001b[0m\u001b[0;34m\u001b[0m\u001b[0;34m\u001b[0m\u001b[0m\n\u001b[0m\u001b[1;32m     15\u001b[0m \u001b[0mprint\u001b[0m\u001b[0;34m(\u001b[0m\u001b[0mk\u001b[0m\u001b[0;34m)\u001b[0m\u001b[0;34m\u001b[0m\u001b[0;34m\u001b[0m\u001b[0m\n",
      "\u001b[0;32m~/anaconda3/lib/python3.7/bdb.py\u001b[0m in \u001b[0;36mtrace_dispatch\u001b[0;34m(self, frame, event, arg)\u001b[0m\n\u001b[1;32m     90\u001b[0m             \u001b[0;32mreturn\u001b[0m \u001b[0mself\u001b[0m\u001b[0;34m.\u001b[0m\u001b[0mdispatch_call\u001b[0m\u001b[0;34m(\u001b[0m\u001b[0mframe\u001b[0m\u001b[0;34m,\u001b[0m \u001b[0marg\u001b[0m\u001b[0;34m)\u001b[0m\u001b[0;34m\u001b[0m\u001b[0;34m\u001b[0m\u001b[0m\n\u001b[1;32m     91\u001b[0m         \u001b[0;32mif\u001b[0m \u001b[0mevent\u001b[0m \u001b[0;34m==\u001b[0m \u001b[0;34m'return'\u001b[0m\u001b[0;34m:\u001b[0m\u001b[0;34m\u001b[0m\u001b[0;34m\u001b[0m\u001b[0m\n\u001b[0;32m---> 92\u001b[0;31m             \u001b[0;32mreturn\u001b[0m \u001b[0mself\u001b[0m\u001b[0;34m.\u001b[0m\u001b[0mdispatch_return\u001b[0m\u001b[0;34m(\u001b[0m\u001b[0mframe\u001b[0m\u001b[0;34m,\u001b[0m \u001b[0marg\u001b[0m\u001b[0;34m)\u001b[0m\u001b[0;34m\u001b[0m\u001b[0;34m\u001b[0m\u001b[0m\n\u001b[0m\u001b[1;32m     93\u001b[0m         \u001b[0;32mif\u001b[0m \u001b[0mevent\u001b[0m \u001b[0;34m==\u001b[0m \u001b[0;34m'exception'\u001b[0m\u001b[0;34m:\u001b[0m\u001b[0;34m\u001b[0m\u001b[0;34m\u001b[0m\u001b[0m\n\u001b[1;32m     94\u001b[0m             \u001b[0;32mreturn\u001b[0m \u001b[0mself\u001b[0m\u001b[0;34m.\u001b[0m\u001b[0mdispatch_exception\u001b[0m\u001b[0;34m(\u001b[0m\u001b[0mframe\u001b[0m\u001b[0;34m,\u001b[0m \u001b[0marg\u001b[0m\u001b[0;34m)\u001b[0m\u001b[0;34m\u001b[0m\u001b[0;34m\u001b[0m\u001b[0m\n",
      "\u001b[0;32m~/anaconda3/lib/python3.7/bdb.py\u001b[0m in \u001b[0;36mdispatch_return\u001b[0;34m(self, frame, arg)\u001b[0m\n\u001b[1;32m    152\u001b[0m             \u001b[0;32mfinally\u001b[0m\u001b[0;34m:\u001b[0m\u001b[0;34m\u001b[0m\u001b[0;34m\u001b[0m\u001b[0m\n\u001b[1;32m    153\u001b[0m                 \u001b[0mself\u001b[0m\u001b[0;34m.\u001b[0m\u001b[0mframe_returning\u001b[0m \u001b[0;34m=\u001b[0m \u001b[0;32mNone\u001b[0m\u001b[0;34m\u001b[0m\u001b[0;34m\u001b[0m\u001b[0m\n\u001b[0;32m--> 154\u001b[0;31m             \u001b[0;32mif\u001b[0m \u001b[0mself\u001b[0m\u001b[0;34m.\u001b[0m\u001b[0mquitting\u001b[0m\u001b[0;34m:\u001b[0m \u001b[0;32mraise\u001b[0m \u001b[0mBdbQuit\u001b[0m\u001b[0;34m\u001b[0m\u001b[0;34m\u001b[0m\u001b[0m\n\u001b[0m\u001b[1;32m    155\u001b[0m             \u001b[0;31m# The user issued a 'next' or 'until' command.\u001b[0m\u001b[0;34m\u001b[0m\u001b[0;34m\u001b[0m\u001b[0;34m\u001b[0m\u001b[0m\n\u001b[1;32m    156\u001b[0m             \u001b[0;32mif\u001b[0m \u001b[0mself\u001b[0m\u001b[0;34m.\u001b[0m\u001b[0mstopframe\u001b[0m \u001b[0;32mis\u001b[0m \u001b[0mframe\u001b[0m \u001b[0;32mand\u001b[0m \u001b[0mself\u001b[0m\u001b[0;34m.\u001b[0m\u001b[0mstoplineno\u001b[0m \u001b[0;34m!=\u001b[0m \u001b[0;34m-\u001b[0m\u001b[0;36m1\u001b[0m\u001b[0;34m:\u001b[0m\u001b[0;34m\u001b[0m\u001b[0;34m\u001b[0m\u001b[0m\n",
      "\u001b[0;31mBdbQuit\u001b[0m: "
     ]
    }
   ],
   "source": [
    "#breakpoint(*args, **kws)\n",
    "#This function drops you into the debugger at the call site. \n",
    "#Specifically, it calls sys.breakpointhook(), passing args and kws straight through. \n",
    "#By default, sys.breakpointhook() calls pdb.set_trace() expecting no arguments. \n",
    "#In this case, it is purely a convenience function so you don’t have to explicitly import pdb \n",
    "#or type as much code to enter the debugger. However, sys.breakpointhook() can be set to some other function\n",
    "#and breakpoint() will automatically call that, allowing you to drop into the debugger of choice.\n",
    "\n",
    "\n",
    "# Find some good breakpoint examples https://www.journaldev.com/22695/python-breakpoint\n",
    "\n",
    "k = 'name'\n",
    "j = '5'\n",
    "breakpoint()\n",
    "print(k)"
   ]
  },
  {
   "cell_type": "code",
   "execution_count": 37,
   "metadata": {},
   "outputs": [
    {
     "name": "stdout",
     "output_type": "stream",
     "text": [
      "bytearray(b'Python is interesting.')\n"
     ]
    }
   ],
   "source": [
    "#class bytearray([source[, encoding[, errors]]])\n",
    "#Return a new array of bytes. The bytearray class is a mutable sequence of integers in the range \n",
    "# 0 <= x < 256. It has most of the usual methods of mutable sequences, described in Mutable Sequence Types, \n",
    "#as well as most methods that the bytes type has, see Bytes and Bytearray Operations.\n",
    "\n",
    "#The optional source parameter can be used to initialize the array in a few different ways:\n",
    "\n",
    "#If it is a string, you must also give the encoding (and optionally, errors) parameters; bytearray() \n",
    "#then converts the string to bytes using str.encode().\n",
    "#If it is an integer, the array will have that size and will be initialized with null bytes.\n",
    "#If it is an object conforming to the buffer interface,\n",
    "# a read-only buffer of the object will be used to initialize the bytes array.\n",
    "#If it is an iterable, it must be an iterable of integers in the range 0 <= x < 256, \n",
    "#which are used as the initial contents of the array.\n",
    "#Without an argument, an array of size 0 is created.\n",
    "\n",
    "string = \"Python is interesting.\"\n",
    "\n",
    "# string with encoding 'utf-8'\n",
    "arr = bytearray(string, 'utf-8')\n",
    "print(arr)"
   ]
  },
  {
   "cell_type": "code",
   "execution_count": 38,
   "metadata": {},
   "outputs": [
    {
     "name": "stdout",
     "output_type": "stream",
     "text": [
      "bytearray(b'\\x00\\x00\\x00\\x00\\x00')\n"
     ]
    }
   ],
   "source": [
    "size = 5\n",
    "\n",
    "arr = bytearray(size)\n",
    "print(arr)"
   ]
  },
  {
   "cell_type": "code",
   "execution_count": 39,
   "metadata": {},
   "outputs": [
    {
     "name": "stdout",
     "output_type": "stream",
     "text": [
      "bytearray(b'\\x01\\x02\\x03\\x04\\x05')\n"
     ]
    }
   ],
   "source": [
    "rList = [1, 2, 3, 4, 5]\n",
    "\n",
    "arr = bytearray(rList)\n",
    "print(arr)"
   ]
  },
  {
   "cell_type": "code",
   "execution_count": 31,
   "metadata": {},
   "outputs": [],
   "source": [
    "#class bytes([source[, encoding[, errors]]])\n",
    "#Return a new “bytes” object, which is an immutable sequence of integers in the range 0 <= x < 256. \n",
    "#bytes is an immutable version of bytearray – it has the same non-mutating methods and \n",
    "#the same indexing and slicing behavior.\n",
    "\n",
    "#Accordingly, constructor arguments are interpreted as for bytearray().\n",
    "\n",
    "#Bytes objects can also be created with literals, see String and Bytes literals."
   ]
  },
  {
   "cell_type": "code",
   "execution_count": 40,
   "metadata": {},
   "outputs": [
    {
     "name": "stdout",
     "output_type": "stream",
     "text": [
      "b'Python is interesting.'\n"
     ]
    }
   ],
   "source": [
    "string = \"Python is interesting.\"\n",
    "\n",
    "# string with encoding 'utf-8'\n",
    "arr = bytes(string, 'utf-8')\n",
    "print(arr)"
   ]
  },
  {
   "cell_type": "code",
   "execution_count": 41,
   "metadata": {},
   "outputs": [
    {
     "name": "stdout",
     "output_type": "stream",
     "text": [
      "b'\\x00\\x00\\x00\\x00\\x00'\n"
     ]
    }
   ],
   "source": [
    "size = 5\n",
    "\n",
    "arr = bytes(size)\n",
    "print(arr)"
   ]
  },
  {
   "cell_type": "code",
   "execution_count": 42,
   "metadata": {},
   "outputs": [
    {
     "name": "stdout",
     "output_type": "stream",
     "text": [
      "b'\\x01\\x02\\x03\\x04\\x05'\n"
     ]
    }
   ],
   "source": [
    "rList = [1, 2, 3, 4, 5]\n",
    "\n",
    "arr = bytes(rList)\n",
    "print(arr)"
   ]
  },
  {
   "cell_type": "code",
   "execution_count": 51,
   "metadata": {},
   "outputs": [],
   "source": [
    "#callable(object)\n",
    "#Return True if the object argument appears callable, \n",
    "#False if not. If this returns true, it is still possible that a call fails, \n",
    "#but if it is false, calling object will never succeed. Note that classes are callable \n",
    "#(calling a class returns a new instance); instances are callable if their class has a __call__() method.\n",
    "\n",
    "#New in version 3.2: This function was first removed in Python 3.0 and then brought back in Python 3.2."
   ]
  },
  {
   "cell_type": "code",
   "execution_count": 52,
   "metadata": {},
   "outputs": [
    {
     "name": "stdout",
     "output_type": "stream",
     "text": [
      "False\n",
      "True\n"
     ]
    }
   ],
   "source": [
    "x = 5\n",
    "print(callable(x)) # checks wheter x is callable or not\n",
    "\n",
    "def testFunction():\n",
    "    print(\"Test\")\n",
    "\n",
    "y = testFunction\n",
    "print(callable(y))"
   ]
  },
  {
   "cell_type": "code",
   "execution_count": 53,
   "metadata": {},
   "outputs": [
    {
     "name": "stdout",
     "output_type": "stream",
     "text": [
      "True\n"
     ]
    }
   ],
   "source": [
    "class Foo:\n",
    "    def __call__(self):\n",
    "        print('Print Something')\n",
    "\n",
    "print(callable(Foo))"
   ]
  },
  {
   "cell_type": "code",
   "execution_count": 54,
   "metadata": {},
   "outputs": [
    {
     "name": "stdout",
     "output_type": "stream",
     "text": [
      "Print Something!\n"
     ]
    }
   ],
   "source": [
    "class Foo:\n",
    "    def __call__(self):\n",
    "        print('Print Something!')\n",
    "\n",
    "InstanceOfFoo = Foo()\n",
    "\n",
    "# Prints 'Print Something'\n",
    "InstanceOfFoo()"
   ]
  },
  {
   "cell_type": "code",
   "execution_count": 55,
   "metadata": {},
   "outputs": [
    {
     "name": "stdout",
     "output_type": "stream",
     "text": [
      "True\n"
     ]
    }
   ],
   "source": [
    "# object appears callable but is not!!!\n",
    "class Foo:\n",
    "    def printLine(self):\n",
    "        print('Print Something')\n",
    "\n",
    "print(callable(Foo))"
   ]
  },
  {
   "cell_type": "code",
   "execution_count": 56,
   "metadata": {},
   "outputs": [
    {
     "name": "stdout",
     "output_type": "stream",
     "text": [
      "True\n"
     ]
    },
    {
     "ename": "TypeError",
     "evalue": "'Foo' object is not callable",
     "output_type": "error",
     "traceback": [
      "\u001b[0;31m---------------------------------------------------------------------------\u001b[0m",
      "\u001b[0;31mTypeError\u001b[0m                                 Traceback (most recent call last)",
      "\u001b[0;32m<ipython-input-56-98cd4a2eb76a>\u001b[0m in \u001b[0;36m<module>\u001b[0;34m\u001b[0m\n\u001b[1;32m      8\u001b[0m \u001b[0;31m# Raises an Error\u001b[0m\u001b[0;34m\u001b[0m\u001b[0;34m\u001b[0m\u001b[0;34m\u001b[0m\u001b[0m\n\u001b[1;32m      9\u001b[0m \u001b[0;31m# 'Foo' object is not callable\u001b[0m\u001b[0;34m\u001b[0m\u001b[0;34m\u001b[0m\u001b[0;34m\u001b[0m\u001b[0m\n\u001b[0;32m---> 10\u001b[0;31m \u001b[0mInstanceOfFoo\u001b[0m\u001b[0;34m(\u001b[0m\u001b[0;34m)\u001b[0m \u001b[0;31m# fails miserably\u001b[0m\u001b[0;34m\u001b[0m\u001b[0;34m\u001b[0m\u001b[0m\n\u001b[0m",
      "\u001b[0;31mTypeError\u001b[0m: 'Foo' object is not callable"
     ]
    }
   ],
   "source": [
    "class Foo:\n",
    "    def printLine(self):\n",
    "        print('Print Something')\n",
    "\n",
    "print(callable(Foo))\n",
    "\n",
    "InstanceOfFoo = Foo()\n",
    "# Raises an Error\n",
    "# 'Foo' object is not callable\n",
    "InstanceOfFoo() # fails miserably"
   ]
  },
  {
   "cell_type": "code",
   "execution_count": 32,
   "metadata": {},
   "outputs": [],
   "source": [
    "#chr(i)\n",
    "#Return the string representing a character whose Unicode code point is the integer i. \n",
    "#For example, chr(97) returns the string 'a', while chr(8364) returns the string '€'. \n",
    "#This is the inverse of ord().\n",
    "\n",
    "#The valid range for the argument is from 0 through 1,114,111 (0x10FFFF in base 16). \n",
    "#ValueError will be raised if i is outside that range."
   ]
  },
  {
   "cell_type": "code",
   "execution_count": 20,
   "metadata": {},
   "outputs": [
    {
     "name": "stdout",
     "output_type": "stream",
     "text": [
      "a\n"
     ]
    }
   ],
   "source": [
    "num = 97\n",
    "print(chr(num)) # return 'a'"
   ]
  },
  {
   "cell_type": "code",
   "execution_count": 58,
   "metadata": {},
   "outputs": [
    {
     "name": "stdout",
     "output_type": "stream",
     "text": [
      "The age is: 25\n"
     ]
    }
   ],
   "source": [
    "#@classmethod\n",
    "#Transform a method into a class method.\n",
    "\n",
    "#A class method receives the class as implicit first argument, \n",
    "#just like an instance method receives the instance. To declare a class method, use this idiom:\n",
    "\n",
    "# class C:\n",
    "#     @classmethod\n",
    "#     def f(cls, arg1, arg2, ...): ...\n",
    "\n",
    "#The @classmethod form is a function decorator – see Function definitions for details.\n",
    "#A class method can be called either on the class (such as C.f()) or on an instance (such as C().f()). The instance is ignored except for its class. If a class method is called for a derived class, the derived class object is passed as the implied first argument.\n",
    "#Class methods are different than C++ or Java static methods. \n",
    "# *** If you want those, see staticmethod().\n",
    "#For more information on class methods, see The standard type hierarchy.\n",
    "\n",
    "class Person:\n",
    "    age = 25\n",
    "\n",
    "    def printAge(cls):\n",
    "        print('The age is:', cls.age)\n",
    "\n",
    "# create printAge class method\n",
    "Person.printAge = classmethod(Person.printAge)\n",
    "\n",
    "Person.printAge()\n"
   ]
  },
  {
   "cell_type": "code",
   "execution_count": 59,
   "metadata": {},
   "outputs": [
    {
     "name": "stdout",
     "output_type": "stream",
     "text": [
      "Adam's age is: 19\n",
      "John's age is: 34\n"
     ]
    }
   ],
   "source": [
    "from datetime import date\n",
    "\n",
    "# random Person\n",
    "class Person:\n",
    "    def __init__(self, name, age):\n",
    "        self.name = name\n",
    "        self.age = age\n",
    "\n",
    "    @classmethod\n",
    "    def fromBirthYear(cls, name, birthYear):\n",
    "        return cls(name, date.today().year - birthYear)\n",
    "\n",
    "    def display(self):\n",
    "        print(self.name + \"'s age is: \" + str(self.age))\n",
    "\n",
    "person = Person('Adam', 19)\n",
    "person.display()\n",
    "\n",
    "person1 = Person.fromBirthYear('John',  1985)\n",
    "person1.display()"
   ]
  },
  {
   "cell_type": "code",
   "execution_count": 35,
   "metadata": {},
   "outputs": [],
   "source": [
    "#compile(source, filename, mode, flags=0, dont_inherit=False, optimize=-1)\n",
    "#Compile the source into a code or AST object. \n",
    "#Code objects can be executed by exec() or eval(). \n",
    "#source can either be a normal string, a byte string, or an AST object.\n",
    "#Refer to the ast module documentation for information on how to work with AST objects."
   ]
  },
  {
   "cell_type": "code",
   "execution_count": 60,
   "metadata": {},
   "outputs": [
    {
     "name": "stdout",
     "output_type": "stream",
     "text": [
      "sum = 11\n"
     ]
    }
   ],
   "source": [
    "codeInString = 'a = 5\\nb=6\\nsum=a+b\\nprint(\"sum =\",sum)'\n",
    "codeObejct = compile(codeInString, 'sumstring', 'exec')\n",
    "exec(codeObejct)"
   ]
  },
  {
   "cell_type": "code",
   "execution_count": 36,
   "metadata": {},
   "outputs": [],
   "source": [
    "#class complex([real[, imag]])\n",
    "#Return a complex number with the value real + imag*1j \n",
    "#or convert a string or number to a complex number. \n",
    "#If the first parameter is a string, it will be interpreted as a complex number \n",
    "#and the function must be called without a second parameter. The second parameter can never be a string. \n",
    "#Each argument may be any numeric type (including complex). \n",
    "#If imag is omitted, it defaults to zero and the constructor serves as a numeric conversion like int and float.\n",
    "#If both arguments are omitted, returns 0j."
   ]
  },
  {
   "cell_type": "code",
   "execution_count": 71,
   "metadata": {},
   "outputs": [
    {
     "name": "stdout",
     "output_type": "stream",
     "text": [
      "(5+5j)\n"
     ]
    }
   ],
   "source": [
    "complex_num = complex(5, 5)\n",
    "print(complex_num)"
   ]
  },
  {
   "cell_type": "code",
   "execution_count": 62,
   "metadata": {},
   "outputs": [
    {
     "name": "stdout",
     "output_type": "stream",
     "text": [
      "x =  10\n",
      "y =  -5\n",
      "z =  0\n",
      "--After deleting z attribute--\n",
      "x =  10\n",
      "y =  -5\n"
     ]
    },
    {
     "ename": "AttributeError",
     "evalue": "'Coordinate' object has no attribute 'z'",
     "output_type": "error",
     "traceback": [
      "\u001b[0;31m---------------------------------------------------------------------------\u001b[0m",
      "\u001b[0;31mAttributeError\u001b[0m                            Traceback (most recent call last)",
      "\u001b[0;32m<ipython-input-62-945504ddb572>\u001b[0m in \u001b[0;36m<module>\u001b[0;34m\u001b[0m\n\u001b[1;32m     24\u001b[0m \u001b[0;34m\u001b[0m\u001b[0m\n\u001b[1;32m     25\u001b[0m \u001b[0;31m# Raises Error\u001b[0m\u001b[0;34m\u001b[0m\u001b[0;34m\u001b[0m\u001b[0;34m\u001b[0m\u001b[0m\n\u001b[0;32m---> 26\u001b[0;31m \u001b[0mprint\u001b[0m\u001b[0;34m(\u001b[0m\u001b[0;34m'z = '\u001b[0m\u001b[0;34m,\u001b[0m\u001b[0mpoint1\u001b[0m\u001b[0;34m.\u001b[0m\u001b[0mz\u001b[0m\u001b[0;34m)\u001b[0m\u001b[0;34m\u001b[0m\u001b[0;34m\u001b[0m\u001b[0m\n\u001b[0m",
      "\u001b[0;31mAttributeError\u001b[0m: 'Coordinate' object has no attribute 'z'"
     ]
    }
   ],
   "source": [
    "#delattr(object, name)\n",
    "#This is a relative of setattr(). \n",
    "#The arguments are an object and a string. \n",
    "#The string must be the name of one of the object’s attributes. \n",
    "#The function deletes the named attribute, provided the object allows it. \n",
    "#For example, delattr(x, 'foobar') is equivalent to del x.foobar.\n",
    "\n",
    "class Coordinate():\n",
    "    x = 10\n",
    "    y = -5\n",
    "    z = 0\n",
    "\n",
    "point1 = Coordinate() \n",
    "\n",
    "print('x = ',point1.x)\n",
    "print('y = ',point1.y)\n",
    "print('z = ',point1.z)\n",
    "\n",
    "delattr(Coordinate, 'z')\n",
    "\n",
    "print('--After deleting z attribute--')\n",
    "print('x = ',point1.x)\n",
    "print('y = ',point1.y)\n",
    "\n",
    "# Raises Error\n",
    "print('z = ',point1.z)"
   ]
  },
  {
   "cell_type": "code",
   "execution_count": 63,
   "metadata": {},
   "outputs": [
    {
     "name": "stdout",
     "output_type": "stream",
     "text": [
      "x =  10\n",
      "y =  -5\n",
      "z =  0\n",
      "--After deleting z attribute--\n",
      "x =  10\n",
      "y =  -5\n"
     ]
    },
    {
     "ename": "AttributeError",
     "evalue": "'Coordinate' object has no attribute 'z'",
     "output_type": "error",
     "traceback": [
      "\u001b[0;31m---------------------------------------------------------------------------\u001b[0m",
      "\u001b[0;31mAttributeError\u001b[0m                            Traceback (most recent call last)",
      "\u001b[0;32m<ipython-input-63-ee4296f4ea30>\u001b[0m in \u001b[0;36m<module>\u001b[0;34m\u001b[0m\n\u001b[1;32m     19\u001b[0m \u001b[0;34m\u001b[0m\u001b[0m\n\u001b[1;32m     20\u001b[0m \u001b[0;31m# Raises Attribute Error\u001b[0m\u001b[0;34m\u001b[0m\u001b[0;34m\u001b[0m\u001b[0;34m\u001b[0m\u001b[0m\n\u001b[0;32m---> 21\u001b[0;31m \u001b[0mprint\u001b[0m\u001b[0;34m(\u001b[0m\u001b[0;34m'z = '\u001b[0m\u001b[0;34m,\u001b[0m\u001b[0mpoint1\u001b[0m\u001b[0;34m.\u001b[0m\u001b[0mz\u001b[0m\u001b[0;34m)\u001b[0m\u001b[0;34m\u001b[0m\u001b[0;34m\u001b[0m\u001b[0m\n\u001b[0m",
      "\u001b[0;31mAttributeError\u001b[0m: 'Coordinate' object has no attribute 'z'"
     ]
    }
   ],
   "source": [
    "# deleting attribute with del operator\n",
    "class Coordinate:\n",
    "    x = 10\n",
    "    y = -5\n",
    "    z = 0\n",
    "\n",
    "point1 = Coordinate() \n",
    "\n",
    "print('x = ',point1.x)\n",
    "print('y = ',point1.y)\n",
    "print('z = ',point1.z)\n",
    "\n",
    "# Deleting attribute z\n",
    "del Coordinate.z\n",
    "\n",
    "print('--After deleting z attribute--')\n",
    "print('x = ',point1.x)\n",
    "print('y = ',point1.y)\n",
    "\n",
    "# Raises Attribute Error\n",
    "print('z = ',point1.z)"
   ]
  },
  {
   "cell_type": "code",
   "execution_count": 23,
   "metadata": {},
   "outputs": [],
   "source": [
    "class Person(object):\n",
    "    def __init__(self, legs, arms, eyecolor):\n",
    "        \"\"\" (int, int, str) -> Person \"\"\"\n",
    "        self.legs = legs\n",
    "        self.arms = arms\n",
    "        self.eyecolor = eyecolor"
   ]
  },
  {
   "cell_type": "code",
   "execution_count": 24,
   "metadata": {},
   "outputs": [],
   "source": [
    "Caleb = Person(2, 2, 'blue')"
   ]
  },
  {
   "cell_type": "code",
   "execution_count": 28,
   "metadata": {},
   "outputs": [
    {
     "name": "stdout",
     "output_type": "stream",
     "text": [
      "{'legs': 2, 'arms': 2, 'eyecolor': 'blue'}\n"
     ]
    }
   ],
   "source": [
    "print(Caleb.__dict__)"
   ]
  },
  {
   "cell_type": "code",
   "execution_count": 36,
   "metadata": {},
   "outputs": [],
   "source": [
    "delattr(Caleb, 'arms')"
   ]
  },
  {
   "cell_type": "code",
   "execution_count": 38,
   "metadata": {},
   "outputs": [
    {
     "name": "stdout",
     "output_type": "stream",
     "text": [
      "{'legs': 2, 'eyecolor': 'blue'}\n"
     ]
    }
   ],
   "source": [
    "print(Caleb.__dict__) # arms removed! "
   ]
  },
  {
   "cell_type": "code",
   "execution_count": 78,
   "metadata": {},
   "outputs": [
    {
     "name": "stdout",
     "output_type": "stream",
     "text": [
      "{'dad': 'gordon', 'mom': 'angie', 'brother': 'joshua', 'self': 'caleb'}\n"
     ]
    }
   ],
   "source": [
    "#class dict(**kwarg)\n",
    "#class dict(mapping, **kwarg)\n",
    "#class dict(iterable, **kwarg)\n",
    "#Create a new dictionary. \n",
    "#The dict object is the dictionary class. See dict and Mapping Types — dict for documentation about this class.\n",
    "#For other containers see the built-in list, set, and tuple classes, as well as the collections module.\n",
    "\n",
    "\n",
    "family_tree = dict() \n",
    "\n",
    "members = ((\"dad\",\"gordon\"),(\"mom\",\"angie\"), (\"brother\",\"joshua\"), (\"self\",\"caleb\"))\n",
    "\n",
    "for i,j in members:\n",
    "    family_tree[i] = j\n",
    "\n",
    "print(family_tree)"
   ]
  },
  {
   "cell_type": "code",
   "execution_count": 64,
   "metadata": {},
   "outputs": [
    {
     "name": "stdout",
     "output_type": "stream",
     "text": [
      "numbers =  {'x': 5, 'y': 0}\n",
      "<class 'dict'>\n",
      "empty =  {}\n",
      "<class 'dict'>\n"
     ]
    }
   ],
   "source": [
    "# different initialization\n",
    "numbers = dict(x=5, y=0)\n",
    "print('numbers = ',numbers)\n",
    "print(type(numbers))\n",
    "\n",
    "empty = dict()\n",
    "print('empty = ',empty)\n",
    "print(type(empty))"
   ]
  },
  {
   "cell_type": "code",
   "execution_count": 66,
   "metadata": {},
   "outputs": [
    {
     "name": "stdout",
     "output_type": "stream",
     "text": [
      "numbers1 = {'x': 5, 'y': -5}\n",
      "numbers2 = {'x': 5, 'y': -5, 'z': 8}\n",
      "numbers3 = {'x': 1, 'y': 2, 'z': 3}\n"
     ]
    }
   ],
   "source": [
    "# keyword argument is not passed\n",
    "numbers1 = dict([('x', 5), ('y', -5)])\n",
    "print('numbers1 =',numbers1)\n",
    "\n",
    "# keyword argument is also passed\n",
    "numbers2 = dict([('x', 5), ('y', -5)], z=8)\n",
    "print('numbers2 =',numbers2)\n",
    "\n",
    "# zip() creates an iterable in Python 3\n",
    "numbers3 = dict(zip(['x', 'y', 'z'], [1, 2, 3]))\n",
    "print('numbers3 =',numbers3)"
   ]
  },
  {
   "cell_type": "code",
   "execution_count": 68,
   "metadata": {},
   "outputs": [
    {
     "name": "stdout",
     "output_type": "stream",
     "text": [
      "numbers1 = {'x': 4, 'y': 5}\n",
      "numbers2 = {'x': 4, 'y': 5}\n",
      "numbers3 = {'x': 4, 'y': 5, 'z': 8}\n"
     ]
    }
   ],
   "source": [
    "numbers1 = dict({'x': 4, 'y': 5})\n",
    "print('numbers1 =', numbers1)\n",
    "\n",
    "# you don't need to use dict() in above code\n",
    "numbers2 = {'x': 4, 'y': 5}\n",
    "print('numbers2 =', numbers2)\n",
    "\n",
    "# keyword argument is also passed\n",
    "numbers3 = dict({'x': 4, 'y': 5}, z=8)\n",
    "print('numbers3 =', numbers3)"
   ]
  },
  {
   "cell_type": "code",
   "execution_count": 81,
   "metadata": {},
   "outputs": [
    {
     "data": {
      "text/plain": [
       "['__class__',\n",
       " '__contains__',\n",
       " '__delattr__',\n",
       " '__delitem__',\n",
       " '__dir__',\n",
       " '__doc__',\n",
       " '__eq__',\n",
       " '__format__',\n",
       " '__ge__',\n",
       " '__getattribute__',\n",
       " '__getitem__',\n",
       " '__gt__',\n",
       " '__hash__',\n",
       " '__init__',\n",
       " '__init_subclass__',\n",
       " '__iter__',\n",
       " '__le__',\n",
       " '__len__',\n",
       " '__lt__',\n",
       " '__ne__',\n",
       " '__new__',\n",
       " '__reduce__',\n",
       " '__reduce_ex__',\n",
       " '__repr__',\n",
       " '__setattr__',\n",
       " '__setitem__',\n",
       " '__sizeof__',\n",
       " '__str__',\n",
       " '__subclasshook__',\n",
       " 'clear',\n",
       " 'copy',\n",
       " 'fromkeys',\n",
       " 'get',\n",
       " 'items',\n",
       " 'keys',\n",
       " 'pop',\n",
       " 'popitem',\n",
       " 'setdefault',\n",
       " 'update',\n",
       " 'values']"
      ]
     },
     "execution_count": 81,
     "metadata": {},
     "output_type": "execute_result"
    }
   ],
   "source": [
    "#dir([object])\n",
    "#Without arguments, return the list of names in the current local scope. \n",
    "#With an argument, attempt to return a list of valid attributes for that object.\n",
    "\n",
    "#If the object has a method named __dir__(), this method will be called and must return the list of attributes.\n",
    "#This allows objects that implement a custom __getattr__() or __getattribute__() function to customize\n",
    "#the way dir() reports their attributes.\n",
    "\n",
    "#If the object does not provide __dir__(), \n",
    "#the function tries its best to gather information from the object’s __dict__ attribute, \n",
    "#if defined, and from its type object. The resulting list is not necessarily complete, \n",
    "#and may be inaccurate when the object has a custom __getattr__().\n",
    "\n",
    "#The default dir() mechanism behaves differently with different types of objects, \n",
    "#as it attempts to produce the most relevant, rather than complete, information:\n",
    "\n",
    "#If the object is a module object, the list contains the names of the module’s attributes.\n",
    "#If the object is a type or class object, \n",
    "#the list contains the names of its attributes, and recursively of the attributes of its bases.\n",
    "#Otherwise, the list contains the object’s attributes’ names, \n",
    "#the names of its class’s attributes, and recursively of the attributes of its class’s base classes.\n",
    "#The resulting list is sorted alphabetically. For example:\n",
    "\n",
    "dir(family_tree)"
   ]
  },
  {
   "cell_type": "code",
   "execution_count": 69,
   "metadata": {},
   "outputs": [
    {
     "name": "stdout",
     "output_type": "stream",
     "text": [
      "['age', 'name', 'salary']\n"
     ]
    }
   ],
   "source": [
    "class Person:\n",
    "    def __dir__(self):\n",
    "        return ['age', 'name', 'salary']\n",
    "    \n",
    "\n",
    "teacher = Person()\n",
    "print(dir(teacher))"
   ]
  },
  {
   "cell_type": "code",
   "execution_count": 4,
   "metadata": {},
   "outputs": [
    {
     "name": "stdout",
     "output_type": "stream",
     "text": [
      "number of times a divides b:  1\n",
      "the remainder of dividing int a into int b:  2\n"
     ]
    }
   ],
   "source": [
    "#divmod(a, b)\n",
    "\n",
    "#Take two (non complex) numbers as arguments and return a pair of numbers consisting of their quotient \n",
    "#and remainder when using integer division. With mixed operand types, \n",
    "#the rules for binary arithmetic operators apply. \n",
    "#For integers, the result is the same as (a // b, a % b). \n",
    "#For floating point numbers the result is (q, a % b), where q is usually math.floor(a / b) \n",
    "#but may be 1 less than that. In any case q * b + a % b is very close to a, if a % b is non-zero \n",
    "#it has the same sign as b, and 0 <= abs(a % b) < abs(b).\n",
    "a = 3\n",
    "b = 5\n",
    "\n",
    "divisions, remainder = divmod(b,a)\n",
    "print(\"number of times a divides b: \", divisions)\n",
    "print(\"the remainder of dividing int a into int b: \", remainder)"
   ]
  },
  {
   "cell_type": "code",
   "execution_count": 5,
   "metadata": {},
   "outputs": [
    {
     "data": {
      "text/plain": [
       "[(0, 'Spring'), (1, 'Summer'), (2, 'Fall'), (3, 'Winter')]"
      ]
     },
     "execution_count": 5,
     "metadata": {},
     "output_type": "execute_result"
    }
   ],
   "source": [
    "#enumerate(iterable, start=0)\n",
    "#Return an enumerate object. iterable must be a sequence, an iterator, or \n",
    "#some other object which supports iteration. The __next__() method of the iterator returned by enumerate() \n",
    "#returns a tuple containing a count (from start which defaults to 0) \n",
    "#and the values obtained from iterating over iterable.\n",
    "\n",
    "\n",
    "seasons = ['Spring', 'Summer', 'Fall', 'Winter']\n",
    "list(enumerate(seasons))"
   ]
  },
  {
   "cell_type": "code",
   "execution_count": 6,
   "metadata": {},
   "outputs": [
    {
     "data": {
      "text/plain": [
       "[(1, 'Spring'), (2, 'Summer'), (3, 'Fall'), (4, 'Winter')]"
      ]
     },
     "execution_count": 6,
     "metadata": {},
     "output_type": "execute_result"
    }
   ],
   "source": [
    "list(enumerate(seasons, start=1))"
   ]
  },
  {
   "cell_type": "code",
   "execution_count": 70,
   "metadata": {},
   "outputs": [
    {
     "name": "stdout",
     "output_type": "stream",
     "text": [
      "<class 'enumerate'>\n",
      "[(0, 'bread'), (1, 'milk'), (2, 'butter')]\n",
      "[(10, 'bread'), (11, 'milk'), (12, 'butter')]\n"
     ]
    }
   ],
   "source": [
    "grocery = ['bread', 'milk', 'butter']\n",
    "enumerateGrocery = enumerate(grocery)\n",
    "\n",
    "print(type(enumerateGrocery))\n",
    "\n",
    "# converting to list\n",
    "print(list(enumerateGrocery))\n",
    "\n",
    "# changing the default counter\n",
    "enumerateGrocery = enumerate(grocery, 10)\n",
    "print(list(enumerateGrocery))"
   ]
  },
  {
   "cell_type": "code",
   "execution_count": 72,
   "metadata": {},
   "outputs": [
    {
     "name": "stdout",
     "output_type": "stream",
     "text": [
      "(0, 'bread')\n",
      "(1, 'milk')\n",
      "(2, 'butter')\n",
      "\n",
      "\n",
      "0 bread\n",
      "1 milk\n",
      "2 butter\n",
      "\n",
      "\n",
      "100 bread\n",
      "101 milk\n",
      "102 butter\n"
     ]
    }
   ],
   "source": [
    "grocery = ['bread', 'milk', 'butter']\n",
    "\n",
    "for item in enumerate(grocery):\n",
    "    print(item)\n",
    "\n",
    "print('\\n')\n",
    "for count, item in enumerate(grocery):\n",
    "    print(count, item)\n",
    "\n",
    "print('\\n')\n",
    "# changing default start value\n",
    "for count, item in enumerate(grocery, 100):\n",
    "    print(count, item)"
   ]
  },
  {
   "cell_type": "code",
   "execution_count": 7,
   "metadata": {},
   "outputs": [
    {
     "data": {
      "text/plain": [
       "2"
      ]
     },
     "execution_count": 7,
     "metadata": {},
     "output_type": "execute_result"
    }
   ],
   "source": [
    "#eval(expression, globals=None, locals=None)\n",
    "#The arguments are a string and optional globals and locals. \n",
    "#If provided, globals must be a dictionary. If provided, locals can be any mapping object.\n",
    "#The expression argument is parsed and evaluated as a Python expression \n",
    "#(technically speaking, a condition list) using the globals and locals dictionaries as global and local namespace.\n",
    "#If the globals dictionary is present and does not contain a value for the key __builtins__,\n",
    "#a reference to the dictionary of the built-in module builtins is inserted under that key before expression \n",
    "#is parsed. This means that expression normally has full access to the standard builtins module and \n",
    "#restricted environments are propagated. If the locals dictionary is omitted it defaults to the globals \n",
    "#dictionary. If both dictionaries are omitted, the expression is executed in the environment where eval() \n",
    "#is called. The return value is the result of the evaluated expression. Syntax errors are reported as exceptions. \n",
    "#Example:\n",
    "\n",
    "\n",
    "x = 1\n",
    "eval('x+1')"
   ]
  },
  {
   "cell_type": "code",
   "execution_count": 15,
   "metadata": {},
   "outputs": [
    {
     "name": "stdout",
     "output_type": "stream",
     "text": [
      "Caleb does Engineering\n"
     ]
    }
   ],
   "source": [
    "name = 'Caleb'\n",
    "occupation = 'Engineering'\n",
    "print(eval('name ')+' does ' +eval('occupation')) #Need better examples"
   ]
  },
  {
   "cell_type": "code",
   "execution_count": 78,
   "metadata": {},
   "outputs": [
    {
     "name": "stdout",
     "output_type": "stream",
     "text": [
      "['__builtins__', 'pow', 'squareRoot']\n",
      "3.0\n"
     ]
    }
   ],
   "source": [
    "#exec(object[, globals[, locals]])\n",
    "#This function supports dynamic execution of Python code. object must be either a string or a code object. \n",
    "#If it is a string, the string is parsed as a suite of Python statements which is then executed \n",
    "#(unless a syntax error occurs). [1] If it is a code object, it is simply executed. \n",
    "#In all cases, the code that’s executed is expected to be valid as file input \n",
    "#(see the section “File input” in the Reference Manual). Be aware that the return and yield statements may \n",
    "#not be used outside of function definitions even within the context of code passed to the exec() function. \n",
    "#The return value is None.\n",
    "\n",
    "#In all cases, if the optional parts are omitted, the code is executed in the current scope. \n",
    "#If only globals is provided, it must be a dictionary, which will be used for both the global and \n",
    "#the local variables. If globals and locals are given, they are used for the global and local variables,\n",
    "#respectively. If provided, locals can be any mapping object. Remember that at module level, \n",
    "#globals and locals are the same dictionary. If exec gets two separate objects as globals and locals, \n",
    "#the code will be executed as if it were embedded in a class definition.\n",
    "\n",
    "#If the globals dictionary does not contain a value for the key __builtins__, \n",
    "#a reference to the dictionary of the built-in module builtins is inserted under that key. \n",
    "#That way you can control what builtins are available to the executed code by inserting your \n",
    "#own __builtins__ dictionary into globals before passing it to exec().\n",
    "\n",
    "\n",
    "from math import *\n",
    "exec('print(dir())', {'squareRoot': sqrt, 'pow': pow})\n",
    "\n",
    "# object can have squareRoot() module\n",
    "exec('print(squareRoot(9))', {'squareRoot': sqrt, 'pow': pow})"
   ]
  },
  {
   "cell_type": "code",
   "execution_count": 79,
   "metadata": {},
   "outputs": [
    {
     "name": "stdout",
     "output_type": "stream",
     "text": [
      "['dir', 'print']\n"
     ]
    }
   ],
   "source": [
    "from math import *\n",
    "\n",
    "globalsParameter = {'__builtins__' : None}\n",
    "localsParameter = {'print': print, 'dir': dir}\n",
    "exec('print(dir())', globalsParameter, localsParameter)"
   ]
  },
  {
   "cell_type": "code",
   "execution_count": 25,
   "metadata": {},
   "outputs": [
    {
     "name": "stdout",
     "output_type": "stream",
     "text": [
      "Mathew\n",
      "Mark\n"
     ]
    },
    {
     "ename": "StopIteration",
     "evalue": "",
     "output_type": "error",
     "traceback": [
      "\u001b[0;31m---------------------------------------------------------------------------\u001b[0m",
      "\u001b[0;31mStopIteration\u001b[0m                             Traceback (most recent call last)",
      "\u001b[0;32m<ipython-input-25-feaf1b1c49bf>\u001b[0m in \u001b[0;36m<module>\u001b[0;34m\u001b[0m\n\u001b[1;32m     22\u001b[0m \u001b[0mprint\u001b[0m\u001b[0;34m(\u001b[0m\u001b[0mnext\u001b[0m\u001b[0;34m(\u001b[0m\u001b[0mfiltered_iterable\u001b[0m\u001b[0;34m)\u001b[0m\u001b[0;34m)\u001b[0m\u001b[0;34m\u001b[0m\u001b[0;34m\u001b[0m\u001b[0m\n\u001b[1;32m     23\u001b[0m \u001b[0mprint\u001b[0m\u001b[0;34m(\u001b[0m\u001b[0mnext\u001b[0m\u001b[0;34m(\u001b[0m\u001b[0mfiltered_iterable\u001b[0m\u001b[0;34m)\u001b[0m\u001b[0;34m)\u001b[0m\u001b[0;34m\u001b[0m\u001b[0;34m\u001b[0m\u001b[0m\n\u001b[0;32m---> 24\u001b[0;31m \u001b[0mprint\u001b[0m\u001b[0;34m(\u001b[0m\u001b[0mnext\u001b[0m\u001b[0;34m(\u001b[0m\u001b[0mfiltered_iterable\u001b[0m\u001b[0;34m)\u001b[0m\u001b[0;34m)\u001b[0m\u001b[0;34m\u001b[0m\u001b[0;34m\u001b[0m\u001b[0m\n\u001b[0m",
      "\u001b[0;31mStopIteration\u001b[0m: "
     ]
    }
   ],
   "source": [
    "#filter(function, iterable)\n",
    "#Construct an iterator from those elements of iterable for which function returns true. \n",
    "#iterable may be either a sequence, a container which supports iteration, or an iterator. \n",
    "#If function is None, the identity function is assumed, \n",
    "#that is, all elements of iterable that are false are removed.\n",
    "\n",
    "#Note that filter(function, iterable) is equivalent to the generator expression \n",
    "#(item for item in iterable if function(item)) if function is not None and (item for item in iterable if item) \n",
    "#if function is None.\n",
    "\n",
    "#See itertools.filterfalse() for the complementary function that returns elements of iterable for \n",
    "#which function returns false.\n",
    "\n",
    "iterable = ['Mathew', 'Mark', 'Luke', 'John']\n",
    "def remove_M(string):\n",
    "    if string[0] == 'M':\n",
    "        return 1\n",
    "    else:\n",
    "        return 0\n",
    "    \n",
    "filtered_iterable = filter(remove_M, iterable)\n",
    "print(next(filtered_iterable))\n",
    "print(next(filtered_iterable))\n",
    "print(next(filtered_iterable))\n"
   ]
  },
  {
   "cell_type": "code",
   "execution_count": 27,
   "metadata": {},
   "outputs": [
    {
     "name": "stdout",
     "output_type": "stream",
     "text": [
      "9.0\n"
     ]
    }
   ],
   "source": [
    "#class float([x])\n",
    "#Return a floating point number constructed from a number or string x.\n",
    "\n",
    "z = 9\n",
    "print(float(z)) #notice .0 added"
   ]
  },
  {
   "cell_type": "code",
   "execution_count": 76,
   "metadata": {},
   "outputs": [
    {
     "name": "stdout",
     "output_type": "stream",
     "text": [
      "123\n",
      "123.456790\n",
      "1100\n"
     ]
    }
   ],
   "source": [
    "#format(value[, format_spec])\n",
    "#Convert a value to a “formatted” representation, as controlled by format_spec. \n",
    "#The interpretation of format_spec will depend on the type of the value argument, \n",
    "#however there is a standard formatting syntax that is used by most built-in types: \n",
    "#Format Specification Mini-Language.\n",
    "\n",
    "# d, f and b are type\n",
    "\n",
    "# integer\n",
    "print(format(123, \"d\"))\n",
    "\n",
    "# float arguments\n",
    "print(format(123.4567898, \"f\"))\n",
    "\n",
    "# binary format\n",
    "print(format(12, \"b\"))"
   ]
  },
  {
   "cell_type": "code",
   "execution_count": 77,
   "metadata": {},
   "outputs": [
    {
     "name": "stdout",
     "output_type": "stream",
     "text": [
      "*+1,234\n",
      "0123.4570\n"
     ]
    }
   ],
   "source": [
    "# integer \n",
    "print(format(1234, \"*>+7,d\"))\n",
    "\n",
    "# float number\n",
    "print(format(123.4567, \"^-09.3f\"))"
   ]
  },
  {
   "cell_type": "code",
   "execution_count": 29,
   "metadata": {},
   "outputs": [
    {
     "name": "stdout",
     "output_type": "stream",
     "text": [
      "frozenset({2, 3.3, 4.4})\n"
     ]
    }
   ],
   "source": [
    "#class frozenset([iterable])\n",
    "#Return a new frozenset object, optionally with elements taken from iterable. \n",
    "#frozenset is a built-in class. See frozenset and \n",
    "#Set Types — set, frozenset for documentation about this class.\n",
    "\n",
    "#For other containers see the built-in set, list, tuple, and dict classes, as well as the collections module.\n",
    "\n",
    "frozset = frozenset([2,3.3, 4.4, 4.4])\n",
    "print(frozset)"
   ]
  },
  {
   "cell_type": "code",
   "execution_count": 80,
   "metadata": {},
   "outputs": [
    {
     "name": "stdout",
     "output_type": "stream",
     "text": [
      "The frozen set is: frozenset({'a', 'o', 'u', 'e', 'i'})\n",
      "The empty frozen set is: frozenset()\n"
     ]
    }
   ],
   "source": [
    "# tuple of vowels\n",
    "vowels = ('a', 'e', 'i', 'o', 'u')\n",
    "\n",
    "fSet = frozenset(vowels)\n",
    "print('The frozen set is:', fSet)\n",
    "print('The empty frozen set is:', frozenset())"
   ]
  },
  {
   "cell_type": "code",
   "execution_count": 81,
   "metadata": {},
   "outputs": [
    {
     "name": "stdout",
     "output_type": "stream",
     "text": [
      "The frozen set is: frozenset({'sex', 'name', 'age'})\n"
     ]
    }
   ],
   "source": [
    "# random dictionary\n",
    "person = {\"name\": \"John\", \"age\": 23, \"sex\": \"male\"}\n",
    "\n",
    "fSet = frozenset(person)\n",
    "print('The frozen set is:', fSet)"
   ]
  },
  {
   "cell_type": "code",
   "execution_count": 40,
   "metadata": {},
   "outputs": [
    {
     "name": "stdout",
     "output_type": "stream",
     "text": [
      "brown\n"
     ]
    }
   ],
   "source": [
    "#getattr(object, name[, default])\n",
    "#Return the value of the named attribute of object. name must be a string.\n",
    "#If the string is the name of one of the object’s attributes, the result is the value of that attribute. \n",
    "#For example, getattr(x, 'foobar') is equivalent to x.foobar. \n",
    "#If the named attribute does not exist, default is returned if provided, otherwise AttributeError is raised.\n",
    "\n",
    "\n",
    "Obama = Person(2, 2, 'brown')\n",
    "\n",
    "print(getattr(Obama, 'eyecolor'))"
   ]
  },
  {
   "cell_type": "code",
   "execution_count": 30,
   "metadata": {},
   "outputs": [
    {
     "data": {
      "text/plain": [
       "{'__name__': '__main__',\n",
       " '__doc__': 'Automatically created module for IPython interactive environment',\n",
       " '__package__': None,\n",
       " '__loader__': None,\n",
       " '__spec__': None,\n",
       " '__builtin__': <module 'builtins' (built-in)>,\n",
       " '__builtins__': <module 'builtins' (built-in)>,\n",
       " '_ih': ['',\n",
       "  '#divmod(a, b)\\n\\n#Take two (non complex) numbers as arguments and return a pair of numbers consisting of their quotient \\n#and remainder when using integer division. With mixed operand types, \\n#the rules for binary arithmetic operators apply. \\n#For integers, the result is the same as (a // b, a % b). \\n#For floating point numbers the result is (q, a % b), where q is usually math.floor(a / b) \\n#but may be 1 less than that. In any case q * b + a % b is very close to a, if a % b is non-zero \\n#it has the same sign as b, and 0 <= abs(a % b) < abs(b).\\na = 3\\nb = 5\\n\\ndivisions, remainder = divmod(b,a)\\nprint(divisions)',\n",
       "  '#divmod(a, b)\\n\\n#Take two (non complex) numbers as arguments and return a pair of numbers consisting of their quotient \\n#and remainder when using integer division. With mixed operand types, \\n#the rules for binary arithmetic operators apply. \\n#For integers, the result is the same as (a // b, a % b). \\n#For floating point numbers the result is (q, a % b), where q is usually math.floor(a / b) \\n#but may be 1 less than that. In any case q * b + a % b is very close to a, if a % b is non-zero \\n#it has the same sign as b, and 0 <= abs(a % b) < abs(b).\\na = 3\\nb = 5\\n\\ndivisions, remainder = divmod(b,a)\\nprint(divisions)\\nprint(remainder)',\n",
       "  '#divmod(a, b)\\n\\n#Take two (non complex) numbers as arguments and return a pair of numbers consisting of their quotient \\n#and remainder when using integer division. With mixed operand types, \\n#the rules for binary arithmetic operators apply. \\n#For integers, the result is the same as (a // b, a % b). \\n#For floating point numbers the result is (q, a % b), where q is usually math.floor(a / b) \\n#but may be 1 less than that. In any case q * b + a % b is very close to a, if a % b is non-zero \\n#it has the same sign as b, and 0 <= abs(a % b) < abs(b).\\na = 3\\nb = 5\\n\\ndivisions, remainder = divmod(b,a)\\nprint(\"number of times a divides b: \", divisions)\\nprint(\"the remainder of dividin int a into int b: \", remainder)',\n",
       "  '#divmod(a, b)\\n\\n#Take two (non complex) numbers as arguments and return a pair of numbers consisting of their quotient \\n#and remainder when using integer division. With mixed operand types, \\n#the rules for binary arithmetic operators apply. \\n#For integers, the result is the same as (a // b, a % b). \\n#For floating point numbers the result is (q, a % b), where q is usually math.floor(a / b) \\n#but may be 1 less than that. In any case q * b + a % b is very close to a, if a % b is non-zero \\n#it has the same sign as b, and 0 <= abs(a % b) < abs(b).\\na = 3\\nb = 5\\n\\ndivisions, remainder = divmod(b,a)\\nprint(\"number of times a divides b: \", divisions)\\nprint(\"the remainder of dividing int a into int b: \", remainder)',\n",
       "  \"#enumerate(iterable, start=0)\\n#Return an enumerate object. iterable must be a sequence, an iterator, or \\n#some other object which supports iteration. The __next__() method of the iterator returned by enumerate() \\n#returns a tuple containing a count (from start which defaults to 0) \\n#and the values obtained from iterating over iterable.\\n\\n\\nseasons = ['Spring', 'Summer', 'Fall', 'Winter']\\nlist(enumerate(seasons))\",\n",
       "  'list(enumerate(seasons, start=1))',\n",
       "  \"#eval(expression, globals=None, locals=None)\\n#The arguments are a string and optional globals and locals. \\n#If provided, globals must be a dictionary. If provided, locals can be any mapping object.\\n#The expression argument is parsed and evaluated as a Python expression \\n#(technically speaking, a condition list) using the globals and locals dictionaries as global and local namespace.\\n#If the globals dictionary is present and does not contain a value for the key __builtins__,\\n#a reference to the dictionary of the built-in module builtins is inserted under that key before expression \\n#is parsed. This means that expression normally has full access to the standard builtins module and \\n#restricted environments are propagated. If the locals dictionary is omitted it defaults to the globals \\n#dictionary. If both dictionaries are omitted, the expression is executed in the environment where eval() \\n#is called. The return value is the result of the evaluated expression. Syntax errors are reported as exceptions. \\n#Example:\\n\\n\\nx = 1\\neval('x+1')\",\n",
       "  \"name = 'Caleb'\\noccupation = 'Engineering'\\neval('name does occupation')\",\n",
       "  \"name = 'Caleb'\\noccupation = 'Engineering'\\neval('name + occupation')\",\n",
       "  \"name = 'Caleb'\\noccupation = 'Engineering'\\neval('name' + 'does' +'occupation')\",\n",
       "  \"name = 'Caleb'\\noccupation = 'Engineering'\\neval('name does occupation')\",\n",
       "  \"name = 'Caleb'\\noccupation = 'Engineering'\\nprint(eval('name')+'does' +eval('occupation'))\",\n",
       "  \"name = 'Caleb'\\noccupation = 'Engineering'\\nprint(eval('name ')+'does ' +eval('occupation'))\",\n",
       "  \"name = 'Caleb'\\noccupation = 'Engineering'\\nprint(eval('name ')+' does ' +eval('occupation'))\",\n",
       "  \"name = 'Caleb'\\noccupation = 'Engineering'\\nprint(eval('name ')+' does ' +eval('occupation')) #Need better examples\",\n",
       "  'globals()',\n",
       "  'locals()',\n",
       "  '#exec(object[, globals[, locals]])\\n#This function supports dynamic execution of Python code. object must be either a string or a code object. \\n#If it is a string, the string is parsed as a suite of Python statements which is then executed \\n#(unless a syntax error occurs). [1] If it is a code object, it is simply executed. \\n#In all cases, the code that’s executed is expected to be valid as file input \\n#(see the section “File input” in the Reference Manual). Be aware that the return and yield statements may \\n#not be used outside of function definitions even within the context of code passed to the exec() function. \\n#The return value is None.\\n\\n#In all cases, if the optional parts are omitted, the code is executed in the current scope. \\n#If only globals is provided, it must be a dictionary, which will be used for both the global and \\n#the local variables. If globals and locals are given, they are used for the global and local variables,\\n#respectively. If provided, locals can be any mapping object. Remember that at module level, \\n#globals and locals are the same dictionary. If exec gets two separate objects as globals and locals, \\n#the code will be executed as if it were embedded in a class definition.\\n\\n#If the globals dictionary does not contain a value for the key __builtins__, \\n#a reference to the dictionary of the built-in module builtins is inserted under that key. \\n#That way you can control what builtins are available to the executed code by inserting your \\n#own __builtins__ dictionary into globals before passing it to exec().',\n",
       "  '#filter(function, iterable)\\n#Construct an iterator from those elements of iterable for which function returns true. \\n#iterable may be either a sequence, a container which supports iteration, or an iterator. \\n#If function is None, the identity function is assumed, \\n#that is, all elements of iterable that are false are removed.\\n\\n#Note that filter(function, iterable) is equivalent to the generator expression \\n#(item for item in iterable if function(item)) if function is not None and (item for item in iterable if item) \\n#if function is None.\\n\\n#See itertools.filterfalse() for the complementary function that returns elements of iterable for \\n#which function returns false.',\n",
       "  \"#filter(function, iterable)\\n#Construct an iterator from those elements of iterable for which function returns true. \\n#iterable may be either a sequence, a container which supports iteration, or an iterator. \\n#If function is None, the identity function is assumed, \\n#that is, all elements of iterable that are false are removed.\\n\\n#Note that filter(function, iterable) is equivalent to the generator expression \\n#(item for item in iterable if function(item)) if function is not None and (item for item in iterable if item) \\n#if function is None.\\n\\n#See itertools.filterfalse() for the complementary function that returns elements of iterable for \\n#which function returns false.\\n\\niterable = ['Mathew', 'Mark', 'Luke', 'John']\\ndef remove_M(string):\\n    if string[0] == 'M':\\n        return 1\\n    else:\\n        return 0\\n    \\nfiltered_iterable = filter(remove_M, iterable)\\nprint(filtered_iterable)\",\n",
       "  \"#filter(function, iterable)\\n#Construct an iterator from those elements of iterable for which function returns true. \\n#iterable may be either a sequence, a container which supports iteration, or an iterator. \\n#If function is None, the identity function is assumed, \\n#that is, all elements of iterable that are false are removed.\\n\\n#Note that filter(function, iterable) is equivalent to the generator expression \\n#(item for item in iterable if function(item)) if function is not None and (item for item in iterable if item) \\n#if function is None.\\n\\n#See itertools.filterfalse() for the complementary function that returns elements of iterable for \\n#which function returns false.\\n\\niterable = ['Mathew', 'Mark', 'Luke', 'John']\\ndef remove_M(string):\\n    if string[0] == 'M':\\n        return 1\\n    else:\\n        return 0\\n    \\nfiltered_iterable = filter(remove_M, iterable)\\nprint(filtered_iterable())\",\n",
       "  \"#filter(function, iterable)\\n#Construct an iterator from those elements of iterable for which function returns true. \\n#iterable may be either a sequence, a container which supports iteration, or an iterator. \\n#If function is None, the identity function is assumed, \\n#that is, all elements of iterable that are false are removed.\\n\\n#Note that filter(function, iterable) is equivalent to the generator expression \\n#(item for item in iterable if function(item)) if function is not None and (item for item in iterable if item) \\n#if function is None.\\n\\n#See itertools.filterfalse() for the complementary function that returns elements of iterable for \\n#which function returns false.\\n\\niterable = ['Mathew', 'Mark', 'Luke', 'John']\\ndef remove_M(string):\\n    if string[0] == 'M':\\n        return 1\\n    else:\\n        return 0\\n    \\nfiltered_iterable = filter(remove_M, iterable)\\nprint(filtered_iterable)\",\n",
       "  \"#filter(function, iterable)\\n#Construct an iterator from those elements of iterable for which function returns true. \\n#iterable may be either a sequence, a container which supports iteration, or an iterator. \\n#If function is None, the identity function is assumed, \\n#that is, all elements of iterable that are false are removed.\\n\\n#Note that filter(function, iterable) is equivalent to the generator expression \\n#(item for item in iterable if function(item)) if function is not None and (item for item in iterable if item) \\n#if function is None.\\n\\n#See itertools.filterfalse() for the complementary function that returns elements of iterable for \\n#which function returns false.\\n\\niterable = ['Mathew', 'Mark', 'Luke', 'John']\\ndef remove_M(string):\\n    if string[0] == 'M':\\n        return 1\\n    else:\\n        return 0\\n    \\nfiltered_iterable = filter(remove_M, iterable)\\nprint(next(filtered_iterable))\",\n",
       "  \"#filter(function, iterable)\\n#Construct an iterator from those elements of iterable for which function returns true. \\n#iterable may be either a sequence, a container which supports iteration, or an iterator. \\n#If function is None, the identity function is assumed, \\n#that is, all elements of iterable that are false are removed.\\n\\n#Note that filter(function, iterable) is equivalent to the generator expression \\n#(item for item in iterable if function(item)) if function is not None and (item for item in iterable if item) \\n#if function is None.\\n\\n#See itertools.filterfalse() for the complementary function that returns elements of iterable for \\n#which function returns false.\\n\\niterable = ['Mathew', 'Mark', 'Luke', 'John']\\ndef remove_M(string):\\n    if string[0] == 'M':\\n        return 1\\n    else:\\n        return 0\\n    \\nfiltered_iterable = filter(remove_M, iterable)\\nprint(next(filtered_iterable))\\nprint(next(filtered_iterable))\",\n",
       "  \"#filter(function, iterable)\\n#Construct an iterator from those elements of iterable for which function returns true. \\n#iterable may be either a sequence, a container which supports iteration, or an iterator. \\n#If function is None, the identity function is assumed, \\n#that is, all elements of iterable that are false are removed.\\n\\n#Note that filter(function, iterable) is equivalent to the generator expression \\n#(item for item in iterable if function(item)) if function is not None and (item for item in iterable if item) \\n#if function is None.\\n\\n#See itertools.filterfalse() for the complementary function that returns elements of iterable for \\n#which function returns false.\\n\\niterable = ['Mathew', 'Mark', 'Luke', 'John']\\ndef remove_M(string):\\n    if string[0] == 'M':\\n        return 1\\n    else:\\n        return 0\\n    \\nfiltered_iterable = filter(remove_M, iterable)\\nprint(next(filtered_iterable))\\nprint(next(filtered_iterable))\\nprint(next(filtered_iterable))\",\n",
       "  '#class float([x])\\n#Return a floating point number constructed from a number or string x.\\n\\nz = 9\\nprint(float(z))',\n",
       "  '#class float([x])\\n#Return a floating point number constructed from a number or string x.\\n\\nz = 9\\nprint(float(z)) #notice .0 added',\n",
       "  '#class frozenset([iterable])\\n#Return a new frozenset object, optionally with elements taken from iterable. \\n#frozenset is a built-in class. See frozenset and \\n#Set Types — set, frozenset for documentation about this class.\\n\\n#For other containers see the built-in set, list, tuple, and dict classes, as well as the collections module.\\n\\nfs = frozenset([2,3.3, 4.4, 4.4])\\nprint(fs)',\n",
       "  '#class frozenset([iterable])\\n#Return a new frozenset object, optionally with elements taken from iterable. \\n#frozenset is a built-in class. See frozenset and \\n#Set Types — set, frozenset for documentation about this class.\\n\\n#For other containers see the built-in set, list, tuple, and dict classes, as well as the collections module.\\n\\nfrozset = frozenset([2,3.3, 4.4, 4.4])\\nprint(frozset)',\n",
       "  '#globals()\\n#Return a dictionary representing the current global symbol table. \\n#This is always the dictionary of the current module (inside a function or method, \\n#this is the module where it is defined, not the module from which it is called).\\nglobals()'],\n",
       " '_oh': {5: [(0, 'Spring'), (1, 'Summer'), (2, 'Fall'), (3, 'Winter')],\n",
       "  6: [(1, 'Spring'), (2, 'Summer'), (3, 'Fall'), (4, 'Winter')],\n",
       "  7: 2,\n",
       "  9: 'CalebEngineering',\n",
       "  16: {...},\n",
       "  17: {...}},\n",
       " '_dh': ['/Users/calebbowyer/Python'],\n",
       " 'In': ['',\n",
       "  '#divmod(a, b)\\n\\n#Take two (non complex) numbers as arguments and return a pair of numbers consisting of their quotient \\n#and remainder when using integer division. With mixed operand types, \\n#the rules for binary arithmetic operators apply. \\n#For integers, the result is the same as (a // b, a % b). \\n#For floating point numbers the result is (q, a % b), where q is usually math.floor(a / b) \\n#but may be 1 less than that. In any case q * b + a % b is very close to a, if a % b is non-zero \\n#it has the same sign as b, and 0 <= abs(a % b) < abs(b).\\na = 3\\nb = 5\\n\\ndivisions, remainder = divmod(b,a)\\nprint(divisions)',\n",
       "  '#divmod(a, b)\\n\\n#Take two (non complex) numbers as arguments and return a pair of numbers consisting of their quotient \\n#and remainder when using integer division. With mixed operand types, \\n#the rules for binary arithmetic operators apply. \\n#For integers, the result is the same as (a // b, a % b). \\n#For floating point numbers the result is (q, a % b), where q is usually math.floor(a / b) \\n#but may be 1 less than that. In any case q * b + a % b is very close to a, if a % b is non-zero \\n#it has the same sign as b, and 0 <= abs(a % b) < abs(b).\\na = 3\\nb = 5\\n\\ndivisions, remainder = divmod(b,a)\\nprint(divisions)\\nprint(remainder)',\n",
       "  '#divmod(a, b)\\n\\n#Take two (non complex) numbers as arguments and return a pair of numbers consisting of their quotient \\n#and remainder when using integer division. With mixed operand types, \\n#the rules for binary arithmetic operators apply. \\n#For integers, the result is the same as (a // b, a % b). \\n#For floating point numbers the result is (q, a % b), where q is usually math.floor(a / b) \\n#but may be 1 less than that. In any case q * b + a % b is very close to a, if a % b is non-zero \\n#it has the same sign as b, and 0 <= abs(a % b) < abs(b).\\na = 3\\nb = 5\\n\\ndivisions, remainder = divmod(b,a)\\nprint(\"number of times a divides b: \", divisions)\\nprint(\"the remainder of dividin int a into int b: \", remainder)',\n",
       "  '#divmod(a, b)\\n\\n#Take two (non complex) numbers as arguments and return a pair of numbers consisting of their quotient \\n#and remainder when using integer division. With mixed operand types, \\n#the rules for binary arithmetic operators apply. \\n#For integers, the result is the same as (a // b, a % b). \\n#For floating point numbers the result is (q, a % b), where q is usually math.floor(a / b) \\n#but may be 1 less than that. In any case q * b + a % b is very close to a, if a % b is non-zero \\n#it has the same sign as b, and 0 <= abs(a % b) < abs(b).\\na = 3\\nb = 5\\n\\ndivisions, remainder = divmod(b,a)\\nprint(\"number of times a divides b: \", divisions)\\nprint(\"the remainder of dividing int a into int b: \", remainder)',\n",
       "  \"#enumerate(iterable, start=0)\\n#Return an enumerate object. iterable must be a sequence, an iterator, or \\n#some other object which supports iteration. The __next__() method of the iterator returned by enumerate() \\n#returns a tuple containing a count (from start which defaults to 0) \\n#and the values obtained from iterating over iterable.\\n\\n\\nseasons = ['Spring', 'Summer', 'Fall', 'Winter']\\nlist(enumerate(seasons))\",\n",
       "  'list(enumerate(seasons, start=1))',\n",
       "  \"#eval(expression, globals=None, locals=None)\\n#The arguments are a string and optional globals and locals. \\n#If provided, globals must be a dictionary. If provided, locals can be any mapping object.\\n#The expression argument is parsed and evaluated as a Python expression \\n#(technically speaking, a condition list) using the globals and locals dictionaries as global and local namespace.\\n#If the globals dictionary is present and does not contain a value for the key __builtins__,\\n#a reference to the dictionary of the built-in module builtins is inserted under that key before expression \\n#is parsed. This means that expression normally has full access to the standard builtins module and \\n#restricted environments are propagated. If the locals dictionary is omitted it defaults to the globals \\n#dictionary. If both dictionaries are omitted, the expression is executed in the environment where eval() \\n#is called. The return value is the result of the evaluated expression. Syntax errors are reported as exceptions. \\n#Example:\\n\\n\\nx = 1\\neval('x+1')\",\n",
       "  \"name = 'Caleb'\\noccupation = 'Engineering'\\neval('name does occupation')\",\n",
       "  \"name = 'Caleb'\\noccupation = 'Engineering'\\neval('name + occupation')\",\n",
       "  \"name = 'Caleb'\\noccupation = 'Engineering'\\neval('name' + 'does' +'occupation')\",\n",
       "  \"name = 'Caleb'\\noccupation = 'Engineering'\\neval('name does occupation')\",\n",
       "  \"name = 'Caleb'\\noccupation = 'Engineering'\\nprint(eval('name')+'does' +eval('occupation'))\",\n",
       "  \"name = 'Caleb'\\noccupation = 'Engineering'\\nprint(eval('name ')+'does ' +eval('occupation'))\",\n",
       "  \"name = 'Caleb'\\noccupation = 'Engineering'\\nprint(eval('name ')+' does ' +eval('occupation'))\",\n",
       "  \"name = 'Caleb'\\noccupation = 'Engineering'\\nprint(eval('name ')+' does ' +eval('occupation')) #Need better examples\",\n",
       "  'globals()',\n",
       "  'locals()',\n",
       "  '#exec(object[, globals[, locals]])\\n#This function supports dynamic execution of Python code. object must be either a string or a code object. \\n#If it is a string, the string is parsed as a suite of Python statements which is then executed \\n#(unless a syntax error occurs). [1] If it is a code object, it is simply executed. \\n#In all cases, the code that’s executed is expected to be valid as file input \\n#(see the section “File input” in the Reference Manual). Be aware that the return and yield statements may \\n#not be used outside of function definitions even within the context of code passed to the exec() function. \\n#The return value is None.\\n\\n#In all cases, if the optional parts are omitted, the code is executed in the current scope. \\n#If only globals is provided, it must be a dictionary, which will be used for both the global and \\n#the local variables. If globals and locals are given, they are used for the global and local variables,\\n#respectively. If provided, locals can be any mapping object. Remember that at module level, \\n#globals and locals are the same dictionary. If exec gets two separate objects as globals and locals, \\n#the code will be executed as if it were embedded in a class definition.\\n\\n#If the globals dictionary does not contain a value for the key __builtins__, \\n#a reference to the dictionary of the built-in module builtins is inserted under that key. \\n#That way you can control what builtins are available to the executed code by inserting your \\n#own __builtins__ dictionary into globals before passing it to exec().',\n",
       "  '#filter(function, iterable)\\n#Construct an iterator from those elements of iterable for which function returns true. \\n#iterable may be either a sequence, a container which supports iteration, or an iterator. \\n#If function is None, the identity function is assumed, \\n#that is, all elements of iterable that are false are removed.\\n\\n#Note that filter(function, iterable) is equivalent to the generator expression \\n#(item for item in iterable if function(item)) if function is not None and (item for item in iterable if item) \\n#if function is None.\\n\\n#See itertools.filterfalse() for the complementary function that returns elements of iterable for \\n#which function returns false.',\n",
       "  \"#filter(function, iterable)\\n#Construct an iterator from those elements of iterable for which function returns true. \\n#iterable may be either a sequence, a container which supports iteration, or an iterator. \\n#If function is None, the identity function is assumed, \\n#that is, all elements of iterable that are false are removed.\\n\\n#Note that filter(function, iterable) is equivalent to the generator expression \\n#(item for item in iterable if function(item)) if function is not None and (item for item in iterable if item) \\n#if function is None.\\n\\n#See itertools.filterfalse() for the complementary function that returns elements of iterable for \\n#which function returns false.\\n\\niterable = ['Mathew', 'Mark', 'Luke', 'John']\\ndef remove_M(string):\\n    if string[0] == 'M':\\n        return 1\\n    else:\\n        return 0\\n    \\nfiltered_iterable = filter(remove_M, iterable)\\nprint(filtered_iterable)\",\n",
       "  \"#filter(function, iterable)\\n#Construct an iterator from those elements of iterable for which function returns true. \\n#iterable may be either a sequence, a container which supports iteration, or an iterator. \\n#If function is None, the identity function is assumed, \\n#that is, all elements of iterable that are false are removed.\\n\\n#Note that filter(function, iterable) is equivalent to the generator expression \\n#(item for item in iterable if function(item)) if function is not None and (item for item in iterable if item) \\n#if function is None.\\n\\n#See itertools.filterfalse() for the complementary function that returns elements of iterable for \\n#which function returns false.\\n\\niterable = ['Mathew', 'Mark', 'Luke', 'John']\\ndef remove_M(string):\\n    if string[0] == 'M':\\n        return 1\\n    else:\\n        return 0\\n    \\nfiltered_iterable = filter(remove_M, iterable)\\nprint(filtered_iterable())\",\n",
       "  \"#filter(function, iterable)\\n#Construct an iterator from those elements of iterable for which function returns true. \\n#iterable may be either a sequence, a container which supports iteration, or an iterator. \\n#If function is None, the identity function is assumed, \\n#that is, all elements of iterable that are false are removed.\\n\\n#Note that filter(function, iterable) is equivalent to the generator expression \\n#(item for item in iterable if function(item)) if function is not None and (item for item in iterable if item) \\n#if function is None.\\n\\n#See itertools.filterfalse() for the complementary function that returns elements of iterable for \\n#which function returns false.\\n\\niterable = ['Mathew', 'Mark', 'Luke', 'John']\\ndef remove_M(string):\\n    if string[0] == 'M':\\n        return 1\\n    else:\\n        return 0\\n    \\nfiltered_iterable = filter(remove_M, iterable)\\nprint(filtered_iterable)\",\n",
       "  \"#filter(function, iterable)\\n#Construct an iterator from those elements of iterable for which function returns true. \\n#iterable may be either a sequence, a container which supports iteration, or an iterator. \\n#If function is None, the identity function is assumed, \\n#that is, all elements of iterable that are false are removed.\\n\\n#Note that filter(function, iterable) is equivalent to the generator expression \\n#(item for item in iterable if function(item)) if function is not None and (item for item in iterable if item) \\n#if function is None.\\n\\n#See itertools.filterfalse() for the complementary function that returns elements of iterable for \\n#which function returns false.\\n\\niterable = ['Mathew', 'Mark', 'Luke', 'John']\\ndef remove_M(string):\\n    if string[0] == 'M':\\n        return 1\\n    else:\\n        return 0\\n    \\nfiltered_iterable = filter(remove_M, iterable)\\nprint(next(filtered_iterable))\",\n",
       "  \"#filter(function, iterable)\\n#Construct an iterator from those elements of iterable for which function returns true. \\n#iterable may be either a sequence, a container which supports iteration, or an iterator. \\n#If function is None, the identity function is assumed, \\n#that is, all elements of iterable that are false are removed.\\n\\n#Note that filter(function, iterable) is equivalent to the generator expression \\n#(item for item in iterable if function(item)) if function is not None and (item for item in iterable if item) \\n#if function is None.\\n\\n#See itertools.filterfalse() for the complementary function that returns elements of iterable for \\n#which function returns false.\\n\\niterable = ['Mathew', 'Mark', 'Luke', 'John']\\ndef remove_M(string):\\n    if string[0] == 'M':\\n        return 1\\n    else:\\n        return 0\\n    \\nfiltered_iterable = filter(remove_M, iterable)\\nprint(next(filtered_iterable))\\nprint(next(filtered_iterable))\",\n",
       "  \"#filter(function, iterable)\\n#Construct an iterator from those elements of iterable for which function returns true. \\n#iterable may be either a sequence, a container which supports iteration, or an iterator. \\n#If function is None, the identity function is assumed, \\n#that is, all elements of iterable that are false are removed.\\n\\n#Note that filter(function, iterable) is equivalent to the generator expression \\n#(item for item in iterable if function(item)) if function is not None and (item for item in iterable if item) \\n#if function is None.\\n\\n#See itertools.filterfalse() for the complementary function that returns elements of iterable for \\n#which function returns false.\\n\\niterable = ['Mathew', 'Mark', 'Luke', 'John']\\ndef remove_M(string):\\n    if string[0] == 'M':\\n        return 1\\n    else:\\n        return 0\\n    \\nfiltered_iterable = filter(remove_M, iterable)\\nprint(next(filtered_iterable))\\nprint(next(filtered_iterable))\\nprint(next(filtered_iterable))\",\n",
       "  '#class float([x])\\n#Return a floating point number constructed from a number or string x.\\n\\nz = 9\\nprint(float(z))',\n",
       "  '#class float([x])\\n#Return a floating point number constructed from a number or string x.\\n\\nz = 9\\nprint(float(z)) #notice .0 added',\n",
       "  '#class frozenset([iterable])\\n#Return a new frozenset object, optionally with elements taken from iterable. \\n#frozenset is a built-in class. See frozenset and \\n#Set Types — set, frozenset for documentation about this class.\\n\\n#For other containers see the built-in set, list, tuple, and dict classes, as well as the collections module.\\n\\nfs = frozenset([2,3.3, 4.4, 4.4])\\nprint(fs)',\n",
       "  '#class frozenset([iterable])\\n#Return a new frozenset object, optionally with elements taken from iterable. \\n#frozenset is a built-in class. See frozenset and \\n#Set Types — set, frozenset for documentation about this class.\\n\\n#For other containers see the built-in set, list, tuple, and dict classes, as well as the collections module.\\n\\nfrozset = frozenset([2,3.3, 4.4, 4.4])\\nprint(frozset)',\n",
       "  '#globals()\\n#Return a dictionary representing the current global symbol table. \\n#This is always the dictionary of the current module (inside a function or method, \\n#this is the module where it is defined, not the module from which it is called).\\nglobals()'],\n",
       " 'Out': {5: [(0, 'Spring'), (1, 'Summer'), (2, 'Fall'), (3, 'Winter')],\n",
       "  6: [(1, 'Spring'), (2, 'Summer'), (3, 'Fall'), (4, 'Winter')],\n",
       "  7: 2,\n",
       "  9: 'CalebEngineering',\n",
       "  16: {...},\n",
       "  17: {...}},\n",
       " 'get_ipython': <bound method InteractiveShell.get_ipython of <ipykernel.zmqshell.ZMQInteractiveShell object at 0x110ec4048>>,\n",
       " 'exit': <IPython.core.autocall.ZMQExitAutocall at 0x11154a9b0>,\n",
       " 'quit': <IPython.core.autocall.ZMQExitAutocall at 0x11154a9b0>,\n",
       " '_': {...},\n",
       " '__': {...},\n",
       " '___': 'CalebEngineering',\n",
       " '_i': '#class frozenset([iterable])\\n#Return a new frozenset object, optionally with elements taken from iterable. \\n#frozenset is a built-in class. See frozenset and \\n#Set Types — set, frozenset for documentation about this class.\\n\\n#For other containers see the built-in set, list, tuple, and dict classes, as well as the collections module.\\n\\nfrozset = frozenset([2,3.3, 4.4, 4.4])\\nprint(frozset)',\n",
       " '_ii': '#class frozenset([iterable])\\n#Return a new frozenset object, optionally with elements taken from iterable. \\n#frozenset is a built-in class. See frozenset and \\n#Set Types — set, frozenset for documentation about this class.\\n\\n#For other containers see the built-in set, list, tuple, and dict classes, as well as the collections module.\\n\\nfs = frozenset([2,3.3, 4.4, 4.4])\\nprint(fs)',\n",
       " '_iii': '#class float([x])\\n#Return a floating point number constructed from a number or string x.\\n\\nz = 9\\nprint(float(z)) #notice .0 added',\n",
       " '_i1': '#divmod(a, b)\\n\\n#Take two (non complex) numbers as arguments and return a pair of numbers consisting of their quotient \\n#and remainder when using integer division. With mixed operand types, \\n#the rules for binary arithmetic operators apply. \\n#For integers, the result is the same as (a // b, a % b). \\n#For floating point numbers the result is (q, a % b), where q is usually math.floor(a / b) \\n#but may be 1 less than that. In any case q * b + a % b is very close to a, if a % b is non-zero \\n#it has the same sign as b, and 0 <= abs(a % b) < abs(b).\\na = 3\\nb = 5\\n\\ndivisions, remainder = divmod(b,a)\\nprint(divisions)',\n",
       " 'a': 3,\n",
       " 'b': 5,\n",
       " 'divisions': 1,\n",
       " 'remainder': 2,\n",
       " '_i2': '#divmod(a, b)\\n\\n#Take two (non complex) numbers as arguments and return a pair of numbers consisting of their quotient \\n#and remainder when using integer division. With mixed operand types, \\n#the rules for binary arithmetic operators apply. \\n#For integers, the result is the same as (a // b, a % b). \\n#For floating point numbers the result is (q, a % b), where q is usually math.floor(a / b) \\n#but may be 1 less than that. In any case q * b + a % b is very close to a, if a % b is non-zero \\n#it has the same sign as b, and 0 <= abs(a % b) < abs(b).\\na = 3\\nb = 5\\n\\ndivisions, remainder = divmod(b,a)\\nprint(divisions)\\nprint(remainder)',\n",
       " '_i3': '#divmod(a, b)\\n\\n#Take two (non complex) numbers as arguments and return a pair of numbers consisting of their quotient \\n#and remainder when using integer division. With mixed operand types, \\n#the rules for binary arithmetic operators apply. \\n#For integers, the result is the same as (a // b, a % b). \\n#For floating point numbers the result is (q, a % b), where q is usually math.floor(a / b) \\n#but may be 1 less than that. In any case q * b + a % b is very close to a, if a % b is non-zero \\n#it has the same sign as b, and 0 <= abs(a % b) < abs(b).\\na = 3\\nb = 5\\n\\ndivisions, remainder = divmod(b,a)\\nprint(\"number of times a divides b: \", divisions)\\nprint(\"the remainder of dividin int a into int b: \", remainder)',\n",
       " '_i4': '#divmod(a, b)\\n\\n#Take two (non complex) numbers as arguments and return a pair of numbers consisting of their quotient \\n#and remainder when using integer division. With mixed operand types, \\n#the rules for binary arithmetic operators apply. \\n#For integers, the result is the same as (a // b, a % b). \\n#For floating point numbers the result is (q, a % b), where q is usually math.floor(a / b) \\n#but may be 1 less than that. In any case q * b + a % b is very close to a, if a % b is non-zero \\n#it has the same sign as b, and 0 <= abs(a % b) < abs(b).\\na = 3\\nb = 5\\n\\ndivisions, remainder = divmod(b,a)\\nprint(\"number of times a divides b: \", divisions)\\nprint(\"the remainder of dividing int a into int b: \", remainder)',\n",
       " '_i5': \"#enumerate(iterable, start=0)\\n#Return an enumerate object. iterable must be a sequence, an iterator, or \\n#some other object which supports iteration. The __next__() method of the iterator returned by enumerate() \\n#returns a tuple containing a count (from start which defaults to 0) \\n#and the values obtained from iterating over iterable.\\n\\n\\nseasons = ['Spring', 'Summer', 'Fall', 'Winter']\\nlist(enumerate(seasons))\",\n",
       " 'seasons': ['Spring', 'Summer', 'Fall', 'Winter'],\n",
       " '_5': [(0, 'Spring'), (1, 'Summer'), (2, 'Fall'), (3, 'Winter')],\n",
       " '_i6': 'list(enumerate(seasons, start=1))',\n",
       " '_6': [(1, 'Spring'), (2, 'Summer'), (3, 'Fall'), (4, 'Winter')],\n",
       " '_i7': \"#eval(expression, globals=None, locals=None)\\n#The arguments are a string and optional globals and locals. \\n#If provided, globals must be a dictionary. If provided, locals can be any mapping object.\\n#The expression argument is parsed and evaluated as a Python expression \\n#(technically speaking, a condition list) using the globals and locals dictionaries as global and local namespace.\\n#If the globals dictionary is present and does not contain a value for the key __builtins__,\\n#a reference to the dictionary of the built-in module builtins is inserted under that key before expression \\n#is parsed. This means that expression normally has full access to the standard builtins module and \\n#restricted environments are propagated. If the locals dictionary is omitted it defaults to the globals \\n#dictionary. If both dictionaries are omitted, the expression is executed in the environment where eval() \\n#is called. The return value is the result of the evaluated expression. Syntax errors are reported as exceptions. \\n#Example:\\n\\n\\nx = 1\\neval('x+1')\",\n",
       " 'x': 1,\n",
       " '_7': 2,\n",
       " '_i8': \"name = 'Caleb'\\noccupation = 'Engineering'\\neval('name does occupation')\",\n",
       " 'name': 'Caleb',\n",
       " 'occupation': 'Engineering',\n",
       " '_i9': \"name = 'Caleb'\\noccupation = 'Engineering'\\neval('name + occupation')\",\n",
       " '_9': 'CalebEngineering',\n",
       " '_i10': \"name = 'Caleb'\\noccupation = 'Engineering'\\neval('name' + 'does' +'occupation')\",\n",
       " '_i11': \"name = 'Caleb'\\noccupation = 'Engineering'\\neval('name does occupation')\",\n",
       " '_i12': \"name = 'Caleb'\\noccupation = 'Engineering'\\nprint(eval('name')+'does' +eval('occupation'))\",\n",
       " '_i13': \"name = 'Caleb'\\noccupation = 'Engineering'\\nprint(eval('name ')+'does ' +eval('occupation'))\",\n",
       " '_i14': \"name = 'Caleb'\\noccupation = 'Engineering'\\nprint(eval('name ')+' does ' +eval('occupation'))\",\n",
       " '_i15': \"name = 'Caleb'\\noccupation = 'Engineering'\\nprint(eval('name ')+' does ' +eval('occupation')) #Need better examples\",\n",
       " '_i16': 'globals()',\n",
       " '_16': {...},\n",
       " '_i17': 'locals()',\n",
       " '_17': {...},\n",
       " '_i18': '#exec(object[, globals[, locals]])\\n#This function supports dynamic execution of Python code. object must be either a string or a code object. \\n#If it is a string, the string is parsed as a suite of Python statements which is then executed \\n#(unless a syntax error occurs). [1] If it is a code object, it is simply executed. \\n#In all cases, the code that’s executed is expected to be valid as file input \\n#(see the section “File input” in the Reference Manual). Be aware that the return and yield statements may \\n#not be used outside of function definitions even within the context of code passed to the exec() function. \\n#The return value is None.\\n\\n#In all cases, if the optional parts are omitted, the code is executed in the current scope. \\n#If only globals is provided, it must be a dictionary, which will be used for both the global and \\n#the local variables. If globals and locals are given, they are used for the global and local variables,\\n#respectively. If provided, locals can be any mapping object. Remember that at module level, \\n#globals and locals are the same dictionary. If exec gets two separate objects as globals and locals, \\n#the code will be executed as if it were embedded in a class definition.\\n\\n#If the globals dictionary does not contain a value for the key __builtins__, \\n#a reference to the dictionary of the built-in module builtins is inserted under that key. \\n#That way you can control what builtins are available to the executed code by inserting your \\n#own __builtins__ dictionary into globals before passing it to exec().',\n",
       " '_i19': '#filter(function, iterable)\\n#Construct an iterator from those elements of iterable for which function returns true. \\n#iterable may be either a sequence, a container which supports iteration, or an iterator. \\n#If function is None, the identity function is assumed, \\n#that is, all elements of iterable that are false are removed.\\n\\n#Note that filter(function, iterable) is equivalent to the generator expression \\n#(item for item in iterable if function(item)) if function is not None and (item for item in iterable if item) \\n#if function is None.\\n\\n#See itertools.filterfalse() for the complementary function that returns elements of iterable for \\n#which function returns false.',\n",
       " '_i20': \"#filter(function, iterable)\\n#Construct an iterator from those elements of iterable for which function returns true. \\n#iterable may be either a sequence, a container which supports iteration, or an iterator. \\n#If function is None, the identity function is assumed, \\n#that is, all elements of iterable that are false are removed.\\n\\n#Note that filter(function, iterable) is equivalent to the generator expression \\n#(item for item in iterable if function(item)) if function is not None and (item for item in iterable if item) \\n#if function is None.\\n\\n#See itertools.filterfalse() for the complementary function that returns elements of iterable for \\n#which function returns false.\\n\\niterable = ['Mathew', 'Mark', 'Luke', 'John']\\ndef remove_M(string):\\n    if string[0] == 'M':\\n        return 1\\n    else:\\n        return 0\\n    \\nfiltered_iterable = filter(remove_M, iterable)\\nprint(filtered_iterable)\",\n",
       " 'iterable': ['Mathew', 'Mark', 'Luke', 'John'],\n",
       " 'remove_M': <function __main__.remove_M(string)>,\n",
       " 'filtered_iterable': <filter at 0x111a73198>,\n",
       " '_i21': \"#filter(function, iterable)\\n#Construct an iterator from those elements of iterable for which function returns true. \\n#iterable may be either a sequence, a container which supports iteration, or an iterator. \\n#If function is None, the identity function is assumed, \\n#that is, all elements of iterable that are false are removed.\\n\\n#Note that filter(function, iterable) is equivalent to the generator expression \\n#(item for item in iterable if function(item)) if function is not None and (item for item in iterable if item) \\n#if function is None.\\n\\n#See itertools.filterfalse() for the complementary function that returns elements of iterable for \\n#which function returns false.\\n\\niterable = ['Mathew', 'Mark', 'Luke', 'John']\\ndef remove_M(string):\\n    if string[0] == 'M':\\n        return 1\\n    else:\\n        return 0\\n    \\nfiltered_iterable = filter(remove_M, iterable)\\nprint(filtered_iterable())\",\n",
       " '_i22': \"#filter(function, iterable)\\n#Construct an iterator from those elements of iterable for which function returns true. \\n#iterable may be either a sequence, a container which supports iteration, or an iterator. \\n#If function is None, the identity function is assumed, \\n#that is, all elements of iterable that are false are removed.\\n\\n#Note that filter(function, iterable) is equivalent to the generator expression \\n#(item for item in iterable if function(item)) if function is not None and (item for item in iterable if item) \\n#if function is None.\\n\\n#See itertools.filterfalse() for the complementary function that returns elements of iterable for \\n#which function returns false.\\n\\niterable = ['Mathew', 'Mark', 'Luke', 'John']\\ndef remove_M(string):\\n    if string[0] == 'M':\\n        return 1\\n    else:\\n        return 0\\n    \\nfiltered_iterable = filter(remove_M, iterable)\\nprint(filtered_iterable)\",\n",
       " '_i23': \"#filter(function, iterable)\\n#Construct an iterator from those elements of iterable for which function returns true. \\n#iterable may be either a sequence, a container which supports iteration, or an iterator. \\n#If function is None, the identity function is assumed, \\n#that is, all elements of iterable that are false are removed.\\n\\n#Note that filter(function, iterable) is equivalent to the generator expression \\n#(item for item in iterable if function(item)) if function is not None and (item for item in iterable if item) \\n#if function is None.\\n\\n#See itertools.filterfalse() for the complementary function that returns elements of iterable for \\n#which function returns false.\\n\\niterable = ['Mathew', 'Mark', 'Luke', 'John']\\ndef remove_M(string):\\n    if string[0] == 'M':\\n        return 1\\n    else:\\n        return 0\\n    \\nfiltered_iterable = filter(remove_M, iterable)\\nprint(next(filtered_iterable))\",\n",
       " '_i24': \"#filter(function, iterable)\\n#Construct an iterator from those elements of iterable for which function returns true. \\n#iterable may be either a sequence, a container which supports iteration, or an iterator. \\n#If function is None, the identity function is assumed, \\n#that is, all elements of iterable that are false are removed.\\n\\n#Note that filter(function, iterable) is equivalent to the generator expression \\n#(item for item in iterable if function(item)) if function is not None and (item for item in iterable if item) \\n#if function is None.\\n\\n#See itertools.filterfalse() for the complementary function that returns elements of iterable for \\n#which function returns false.\\n\\niterable = ['Mathew', 'Mark', 'Luke', 'John']\\ndef remove_M(string):\\n    if string[0] == 'M':\\n        return 1\\n    else:\\n        return 0\\n    \\nfiltered_iterable = filter(remove_M, iterable)\\nprint(next(filtered_iterable))\\nprint(next(filtered_iterable))\",\n",
       " '_i25': \"#filter(function, iterable)\\n#Construct an iterator from those elements of iterable for which function returns true. \\n#iterable may be either a sequence, a container which supports iteration, or an iterator. \\n#If function is None, the identity function is assumed, \\n#that is, all elements of iterable that are false are removed.\\n\\n#Note that filter(function, iterable) is equivalent to the generator expression \\n#(item for item in iterable if function(item)) if function is not None and (item for item in iterable if item) \\n#if function is None.\\n\\n#See itertools.filterfalse() for the complementary function that returns elements of iterable for \\n#which function returns false.\\n\\niterable = ['Mathew', 'Mark', 'Luke', 'John']\\ndef remove_M(string):\\n    if string[0] == 'M':\\n        return 1\\n    else:\\n        return 0\\n    \\nfiltered_iterable = filter(remove_M, iterable)\\nprint(next(filtered_iterable))\\nprint(next(filtered_iterable))\\nprint(next(filtered_iterable))\",\n",
       " '_i26': '#class float([x])\\n#Return a floating point number constructed from a number or string x.\\n\\nz = 9\\nprint(float(z))',\n",
       " 'z': 9,\n",
       " '_i27': '#class float([x])\\n#Return a floating point number constructed from a number or string x.\\n\\nz = 9\\nprint(float(z)) #notice .0 added',\n",
       " '_i28': '#class frozenset([iterable])\\n#Return a new frozenset object, optionally with elements taken from iterable. \\n#frozenset is a built-in class. See frozenset and \\n#Set Types — set, frozenset for documentation about this class.\\n\\n#For other containers see the built-in set, list, tuple, and dict classes, as well as the collections module.\\n\\nfs = frozenset([2,3.3, 4.4, 4.4])\\nprint(fs)',\n",
       " 'fs': frozenset({2, 3.3, 4.4}),\n",
       " '_i29': '#class frozenset([iterable])\\n#Return a new frozenset object, optionally with elements taken from iterable. \\n#frozenset is a built-in class. See frozenset and \\n#Set Types — set, frozenset for documentation about this class.\\n\\n#For other containers see the built-in set, list, tuple, and dict classes, as well as the collections module.\\n\\nfrozset = frozenset([2,3.3, 4.4, 4.4])\\nprint(frozset)',\n",
       " 'frozset': frozenset({2, 3.3, 4.4}),\n",
       " '_i30': '#globals()\\n#Return a dictionary representing the current global symbol table. \\n#This is always the dictionary of the current module (inside a function or method, \\n#this is the module where it is defined, not the module from which it is called).\\nglobals()'}"
      ]
     },
     "execution_count": 30,
     "metadata": {},
     "output_type": "execute_result"
    }
   ],
   "source": [
    "#globals()\n",
    "#Return a dictionary representing the current global symbol table. \n",
    "#This is always the dictionary of the current module (inside a function or method, \n",
    "#this is the module where it is defined, not the module from which it is called).\n",
    "globals()"
   ]
  },
  {
   "cell_type": "code",
   "execution_count": 84,
   "metadata": {},
   "outputs": [
    {
     "name": "stdout",
     "output_type": "stream",
     "text": [
      "The age is: 25\n"
     ]
    }
   ],
   "source": [
    "age = 23\n",
    "\n",
    "globals()['age'] = 25\n",
    "print('The age is:', age)\n",
    "#globals()"
   ]
  },
  {
   "cell_type": "code",
   "execution_count": 41,
   "metadata": {},
   "outputs": [
    {
     "name": "stdout",
     "output_type": "stream",
     "text": [
      "True\n"
     ]
    }
   ],
   "source": [
    "#hasattr(object, name)\n",
    "#The arguments are an object and a string. \n",
    "#The result is True if the string is the name of one of the object’s attributes, False if not. \n",
    "#(This is implemented by calling getattr(object, name) and seeing whether it raises an AttributeError or not.)\n",
    "\n",
    "\n",
    "print(hasattr(Obama, 'legs'))"
   ]
  },
  {
   "cell_type": "code",
   "execution_count": 44,
   "metadata": {},
   "outputs": [
    {
     "name": "stdout",
     "output_type": "stream",
     "text": [
      "False\n"
     ]
    }
   ],
   "source": [
    "print(hasattr(Obama, 'blondehair')) # check attribute error"
   ]
  },
  {
   "cell_type": "code",
   "execution_count": 32,
   "metadata": {},
   "outputs": [
    {
     "name": "stdout",
     "output_type": "stream",
     "text": [
      "Help on built-in function print in module builtins:\n",
      "\n",
      "print(...)\n",
      "    print(value, ..., sep=' ', end='\\n', file=sys.stdout, flush=False)\n",
      "    \n",
      "    Prints the values to a stream, or to sys.stdout by default.\n",
      "    Optional keyword arguments:\n",
      "    file:  a file-like object (stream); defaults to the current sys.stdout.\n",
      "    sep:   string inserted between values, default a space.\n",
      "    end:   string appended after the last value, default a newline.\n",
      "    flush: whether to forcibly flush the stream.\n",
      "\n"
     ]
    }
   ],
   "source": [
    "#help([object])\n",
    "#Invoke the built-in help system. (This function is intended for interactive use.) \n",
    "#If no argument is given, the interactive help system starts on the interpreter console. \n",
    "#If the argument is a string, then the string is looked up as the name of a \n",
    "#module, function, class, method, keyword, or documentation topic, \n",
    "#and a help page is printed on the console. If the argument is any other kind of object, \n",
    "#a help page on the object is generated.\n",
    "\n",
    "help(print)"
   ]
  },
  {
   "cell_type": "code",
   "execution_count": 33,
   "metadata": {},
   "outputs": [
    {
     "name": "stdout",
     "output_type": "stream",
     "text": [
      "Help on _Helper in module _sitebuiltins object:\n",
      "\n",
      "class _Helper(builtins.object)\n",
      " |  Define the builtin 'help'.\n",
      " |  \n",
      " |  This is a wrapper around pydoc.help that provides a helpful message\n",
      " |  when 'help' is typed at the Python interactive prompt.\n",
      " |  \n",
      " |  Calling help() at the Python prompt starts an interactive help session.\n",
      " |  Calling help(thing) prints help for the python object 'thing'.\n",
      " |  \n",
      " |  Methods defined here:\n",
      " |  \n",
      " |  __call__(self, *args, **kwds)\n",
      " |      Call self as a function.\n",
      " |  \n",
      " |  __repr__(self)\n",
      " |      Return repr(self).\n",
      " |  \n",
      " |  ----------------------------------------------------------------------\n",
      " |  Data descriptors defined here:\n",
      " |  \n",
      " |  __dict__\n",
      " |      dictionary for instance variables (if defined)\n",
      " |  \n",
      " |  __weakref__\n",
      " |      list of weak references to the object (if defined)\n",
      "\n"
     ]
    }
   ],
   "source": [
    "help(help)"
   ]
  },
  {
   "cell_type": "code",
   "execution_count": 41,
   "metadata": {},
   "outputs": [
    {
     "data": {
      "text/plain": [
       "'0x1f'"
      ]
     },
     "execution_count": 41,
     "metadata": {},
     "output_type": "execute_result"
    }
   ],
   "source": [
    "#hex(x)\n",
    "#Convert an integer number to a lowercase hexadecimal string prefixed with “0x”. \n",
    "#If x is not a Python int object, it has to define an __index__() method that returns an integer. \n",
    "#Some examples:\n",
    "hex(15)\n",
    "hex(31)"
   ]
  },
  {
   "cell_type": "code",
   "execution_count": 43,
   "metadata": {},
   "outputs": [
    {
     "data": {
      "text/plain": [
       "4545471712"
      ]
     },
     "execution_count": 43,
     "metadata": {},
     "output_type": "execute_result"
    }
   ],
   "source": [
    "#id(object)\n",
    "#Return the “identity” of an object. This is an integer which is guaranteed to be unique \n",
    "#and constant for this object during its lifetime. Two objects with non-overlapping lifetimes may \n",
    "#have the same id() value.\n",
    "\n",
    "#CPython implementation detail: This is the address of the object in memory.\n",
    "a = 1\n",
    "id(a)"
   ]
  },
  {
   "cell_type": "code",
   "execution_count": 44,
   "metadata": {},
   "outputs": [
    {
     "name": "stdout",
     "output_type": "stream",
     "text": [
      "--> Monty Python's Flying Circus\n"
     ]
    }
   ],
   "source": [
    "#input([prompt])\n",
    "#If the prompt argument is present, it is written to standard output without a trailing newline. \n",
    "#The function then reads a line from input, converts it to a string (stripping a trailing newline), \n",
    "#and returns that. When EOF is read, EOFError is raised. Example:\n",
    "\n",
    "s = input('--> ')  "
   ]
  },
  {
   "cell_type": "code",
   "execution_count": 45,
   "metadata": {},
   "outputs": [
    {
     "data": {
      "text/plain": [
       "6"
      ]
     },
     "execution_count": 45,
     "metadata": {},
     "output_type": "execute_result"
    }
   ],
   "source": [
    "#class int(x, base=10)\n",
    "#Return an integer object constructed from a number or string x, or return 0 \n",
    "#if no arguments are given. If x defines __int__(), int(x) returns x.__int__(). \n",
    "#If x defines __trunc__(), it returns x.__trunc__(). For floating point numbers, this truncates towards zero.\n",
    "\n",
    "x_to_be_trunc = 6.7\n",
    "int(x_to_be_trunc)"
   ]
  },
  {
   "cell_type": "code",
   "execution_count": 46,
   "metadata": {},
   "outputs": [
    {
     "data": {
      "text/plain": [
       "True"
      ]
     },
     "execution_count": 46,
     "metadata": {},
     "output_type": "execute_result"
    }
   ],
   "source": [
    "#isinstance(object, classinfo)\n",
    "#Return true if the object argument is an instance of the classinfo argument, \n",
    "#or of a (direct, indirect or virtual) subclass thereof. \n",
    "#If object is not an object of the given type, the function always returns false. \n",
    "#If classinfo is a tuple of type objects (or recursively, other such tuples), \n",
    "#return true if object is an instance of any of the types. \n",
    "#If classinfo is not a type or tuple of types and such tuples, a TypeError exception is raised.\n",
    "\n",
    "isinstance(Caleb, Person)\n",
    "isinstance(Obama, Person)"
   ]
  },
  {
   "cell_type": "code",
   "execution_count": 16,
   "metadata": {},
   "outputs": [
    {
     "ename": "NameError",
     "evalue": "name 'Person' is not defined",
     "output_type": "error",
     "traceback": [
      "\u001b[0;31m---------------------------------------------------------------------------\u001b[0m",
      "\u001b[0;31mNameError\u001b[0m                                 Traceback (most recent call last)",
      "\u001b[0;32m<ipython-input-16-30dcf55c0e75>\u001b[0m in \u001b[0;36m<module>\u001b[0;34m\u001b[0m\n\u001b[1;32m      4\u001b[0m \u001b[0;31m#in which case every entry in classinfo will be checked. In any other case, a TypeError exception is raised.\u001b[0m\u001b[0;34m\u001b[0m\u001b[0;34m\u001b[0m\u001b[0;34m\u001b[0m\u001b[0m\n\u001b[1;32m      5\u001b[0m \u001b[0;34m\u001b[0m\u001b[0m\n\u001b[0;32m----> 6\u001b[0;31m \u001b[0missubclass\u001b[0m\u001b[0;34m(\u001b[0m\u001b[0mPerson\u001b[0m\u001b[0;34m,\u001b[0m \u001b[0mobject\u001b[0m\u001b[0;34m)\u001b[0m\u001b[0;34m\u001b[0m\u001b[0;34m\u001b[0m\u001b[0m\n\u001b[0m\u001b[1;32m      7\u001b[0m \u001b[0msmall_square\u001b[0m \u001b[0;34m=\u001b[0m \u001b[0mSquare\u001b[0m\u001b[0;34m(\u001b[0m\u001b[0;36m2\u001b[0m\u001b[0;34m)\u001b[0m\u001b[0;34m\u001b[0m\u001b[0;34m\u001b[0m\u001b[0m\n\u001b[1;32m      8\u001b[0m \u001b[0missubclass\u001b[0m\u001b[0;34m(\u001b[0m\u001b[0msmall_square\u001b[0m\u001b[0;34m,\u001b[0m \u001b[0mRectangle\u001b[0m\u001b[0;34m)\u001b[0m\u001b[0;34m\u001b[0m\u001b[0;34m\u001b[0m\u001b[0m\n",
      "\u001b[0;31mNameError\u001b[0m: name 'Person' is not defined"
     ]
    }
   ],
   "source": [
    "#issubclass(class, classinfo)\n",
    "#Return true if class is a subclass (direct, indirect or virtual) of classinfo.\n",
    "#A class is considered a subclass of itself. classinfo may be a tuple of class objects, \n",
    "#in which case every entry in classinfo will be checked. In any other case, a TypeError exception is raised.\n",
    "\n",
    "issubclass(Person, object)"
   ]
  },
  {
   "cell_type": "code",
   "execution_count": 19,
   "metadata": {},
   "outputs": [
    {
     "data": {
      "text/plain": [
       "True"
      ]
     },
     "execution_count": 19,
     "metadata": {},
     "output_type": "execute_result"
    }
   ],
   "source": [
    "class Rectangle:\n",
    "    def __init__(self, length, width):\n",
    "        self.length = length\n",
    "        self.width = width\n",
    "        \n",
    "    def __repr__(self):\n",
    "        return 'length({})X({})width Rectangle'.format(self.length, self.width)\n",
    "\n",
    "    def area(self):\n",
    "        return self.length * self.width\n",
    "\n",
    "    def perimeter(self):\n",
    "        return 2 * self.length + 2 * self.width\n",
    "\n",
    "# Here we declare that the Square class inherits from the Rectangle class\n",
    "class Square(Rectangle):\n",
    "    def __init__(self, length):\n",
    "        super().__init__(length, length)\n",
    "        \n",
    "issubclass(Square, Rectangle) # great check using builtin issubclass() "
   ]
  },
  {
   "cell_type": "code",
   "execution_count": 24,
   "metadata": {},
   "outputs": [
    {
     "name": "stdout",
     "output_type": "stream",
     "text": [
      "a\n",
      "e\n",
      "i\n",
      "o\n",
      "u\n"
     ]
    }
   ],
   "source": [
    "#iter(object[, sentinel])\n",
    "#Return an iterator object. \n",
    "#The first argument is interpreted very differently depending on the presence of the second argument. \n",
    "#Without a second argument, object must be a collection object which supports the iteration protocol\n",
    "#(the __iter__() method), or it must support the sequence protocol (the __getitem__() method with integer \n",
    "#arguments starting at 0). If it does not support either of those protocols, TypeError is raised. \n",
    "#If the second argument, sentinel, is given, then object must be a callable object. \n",
    "#The iterator created in this case will call object with no arguments for each call to its __next__() method; \n",
    "#if the value returned is equal to sentinel, StopIteration will be raised, otherwise the value will be returned.\n",
    "\n",
    "#See also Iterator Types.\n",
    "#One useful application of the second form of iter() is to build a block-reader. \n",
    "#For example, reading fixed-width blocks from a binary database file until the end of file is reached:\n",
    "\n",
    "\n",
    "# list of vowels\n",
    "vowels = ['a', 'e', 'i', 'o', 'u']\n",
    "vowelsIter = iter(vowels) # use of iter() taking a list as 1st parameter\n",
    "\n",
    "# prints 'a'\n",
    "print(next(vowelsIter))\n",
    "# prints 'e'\n",
    "print(next(vowelsIter))\n",
    "# prints 'i'\n",
    "print(next(vowelsIter))\n",
    "# prints 'o'\n",
    "print(next(vowelsIter))\n",
    "# prints 'u'\n",
    "print(next(vowelsIter))"
   ]
  },
  {
   "cell_type": "code",
   "execution_count": 25,
   "metadata": {},
   "outputs": [
    {
     "name": "stdout",
     "output_type": "stream",
     "text": [
      "1\n",
      "2\n",
      "3\n"
     ]
    },
    {
     "ename": "StopIteration",
     "evalue": "",
     "output_type": "error",
     "traceback": [
      "\u001b[0;31m---------------------------------------------------------------------------\u001b[0m",
      "\u001b[0;31mStopIteration\u001b[0m                             Traceback (most recent call last)",
      "\u001b[0;32m<ipython-input-25-7f410e67b90f>\u001b[0m in \u001b[0;36m<module>\u001b[0;34m\u001b[0m\n\u001b[1;32m     27\u001b[0m \u001b[0;34m\u001b[0m\u001b[0m\n\u001b[1;32m     28\u001b[0m \u001b[0;31m# raises StopIteration\u001b[0m\u001b[0;34m\u001b[0m\u001b[0;34m\u001b[0m\u001b[0;34m\u001b[0m\u001b[0m\n\u001b[0;32m---> 29\u001b[0;31m \u001b[0mprint\u001b[0m\u001b[0;34m(\u001b[0m\u001b[0mnext\u001b[0m\u001b[0;34m(\u001b[0m\u001b[0mprintNumIter\u001b[0m\u001b[0;34m)\u001b[0m\u001b[0;34m)\u001b[0m\u001b[0;34m\u001b[0m\u001b[0;34m\u001b[0m\u001b[0m\n\u001b[0m",
      "\u001b[0;32m<ipython-input-25-7f410e67b90f>\u001b[0m in \u001b[0;36m__next__\u001b[0;34m(self)\u001b[0m\n\u001b[1;32m      9\u001b[0m     \u001b[0;32mdef\u001b[0m \u001b[0m__next__\u001b[0m\u001b[0;34m(\u001b[0m\u001b[0mself\u001b[0m\u001b[0;34m)\u001b[0m\u001b[0;34m:\u001b[0m\u001b[0;34m\u001b[0m\u001b[0;34m\u001b[0m\u001b[0m\n\u001b[1;32m     10\u001b[0m         \u001b[0;32mif\u001b[0m\u001b[0;34m(\u001b[0m\u001b[0mself\u001b[0m\u001b[0;34m.\u001b[0m\u001b[0mnum\u001b[0m \u001b[0;34m>=\u001b[0m \u001b[0mself\u001b[0m\u001b[0;34m.\u001b[0m\u001b[0mmax\u001b[0m\u001b[0;34m)\u001b[0m\u001b[0;34m:\u001b[0m\u001b[0;34m\u001b[0m\u001b[0;34m\u001b[0m\u001b[0m\n\u001b[0;32m---> 11\u001b[0;31m             \u001b[0;32mraise\u001b[0m \u001b[0mStopIteration\u001b[0m\u001b[0;34m\u001b[0m\u001b[0;34m\u001b[0m\u001b[0m\n\u001b[0m\u001b[1;32m     12\u001b[0m         \u001b[0mself\u001b[0m\u001b[0;34m.\u001b[0m\u001b[0mnum\u001b[0m \u001b[0;34m+=\u001b[0m \u001b[0;36m1\u001b[0m\u001b[0;34m\u001b[0m\u001b[0;34m\u001b[0m\u001b[0m\n\u001b[1;32m     13\u001b[0m         \u001b[0;32mreturn\u001b[0m \u001b[0mself\u001b[0m\u001b[0;34m.\u001b[0m\u001b[0mnum\u001b[0m\u001b[0;34m\u001b[0m\u001b[0;34m\u001b[0m\u001b[0m\n",
      "\u001b[0;31mStopIteration\u001b[0m: "
     ]
    }
   ],
   "source": [
    "class PrintNumber:\n",
    "    def __init__(self, max):\n",
    "        self.max = max\n",
    "\n",
    "    def __iter__(self):\n",
    "        self.num = 0\n",
    "        return self\n",
    "\n",
    "    def __next__(self):\n",
    "        if(self.num >= self.max):\n",
    "            raise StopIteration\n",
    "        self.num += 1\n",
    "        return self.num\n",
    "\n",
    "printNum = PrintNumber(3)\n",
    "\n",
    "printNumIter = iter(printNum) # create the iterator object\n",
    "\n",
    "# prints '1'\n",
    "print(next(printNumIter))\n",
    "\n",
    "# prints '2'\n",
    "print(next(printNumIter))\n",
    "\n",
    "# prints '3'\n",
    "print(next(printNumIter))\n",
    "\n",
    "# raises StopIteration\n",
    "print(next(printNumIter))"
   ]
  },
  {
   "cell_type": "code",
   "execution_count": 50,
   "metadata": {},
   "outputs": [
    {
     "name": "stdout",
     "output_type": "stream",
     "text": [
      "8\n"
     ]
    }
   ],
   "source": [
    "#len(s)\n",
    "#Return the length (the number of items) of an object.\n",
    "#The argument may be a sequence (such as a string, bytes, tuple, list, or range) \n",
    "#or a collection (such as a dictionary, set, or frozen set).\n",
    "\n",
    "seq = [4, 4, 3, 2, 3, 2, 1, 1]\n",
    "print(len(seq))"
   ]
  },
  {
   "cell_type": "code",
   "execution_count": 111,
   "metadata": {},
   "outputs": [
    {
     "name": "stdout",
     "output_type": "stream",
     "text": [
      "[] length is 0\n",
      "[1, 2, 3] length is 3\n",
      "(1, 2, 3) length is 3\n",
      "Length of range(1, 10) is 9\n"
     ]
    }
   ],
   "source": [
    "testList = []\n",
    "print(testList, 'length is', len(testList))\n",
    "\n",
    "testList = [1, 2, 3]\n",
    "print(testList, 'length is', len(testList))\n",
    "\n",
    "testTuple = (1, 2, 3)\n",
    "print(testTuple, 'length is', len(testTuple))\n",
    "\n",
    "testRange = range(1, 10)\n",
    "print('Length of', testRange, 'is', len(testRange))"
   ]
  },
  {
   "cell_type": "code",
   "execution_count": 110,
   "metadata": {},
   "outputs": [
    {
     "name": "stdout",
     "output_type": "stream",
     "text": [
      "Length of  is 0\n",
      "Length of Python is 6\n",
      "Length of b'Python' is 6\n",
      "Length of b'\\x01\\x02\\x03' is 3\n"
     ]
    }
   ],
   "source": [
    "testString = ''\n",
    "print('Length of', testString, 'is', len(testString))\n",
    "\n",
    "testString = 'Python'\n",
    "print('Length of', testString, 'is', len(testString))\n",
    "\n",
    "# byte object\n",
    "testByte = b'Python'\n",
    "print('Length of', testByte, 'is', len(testByte))\n",
    "\n",
    "testList = [1, 2, 3]\n",
    "\n",
    "# converting to bytes object\n",
    "testByte = bytes(testList)\n",
    "print('Length of', testByte, 'is', len(testByte))"
   ]
  },
  {
   "cell_type": "code",
   "execution_count": 109,
   "metadata": {},
   "outputs": [
    {
     "name": "stdout",
     "output_type": "stream",
     "text": [
      "{1, 2, 3} length is 3\n",
      "set() length is 0\n",
      "{1: 'one', 2: 'two'} length is 2\n",
      "{} length is 0\n",
      "frozenset({1, 2}) length is 2\n"
     ]
    }
   ],
   "source": [
    "testSet = {1, 2, 3}\n",
    "print(testSet, 'length is', len(testSet))\n",
    "\n",
    "# Empty Set\n",
    "testSet = set()\n",
    "print(testSet, 'length is', len(testSet))\n",
    "\n",
    "testDict = {1: 'one', 2: 'two'}\n",
    "print(testDict, 'length is', len(testDict))\n",
    "\n",
    "testDict = {}\n",
    "print(testDict, 'length is', len(testDict))\n",
    "\n",
    "testSet = {1, 2}\n",
    "# frozenSet\n",
    "frozenTestSet = frozenset(testSet)\n",
    "print(frozenTestSet, 'length is', len(frozenTestSet))"
   ]
  },
  {
   "cell_type": "code",
   "execution_count": 108,
   "metadata": {},
   "outputs": [
    {
     "name": "stdout",
     "output_type": "stream",
     "text": [
      "0\n",
      "6\n"
     ]
    }
   ],
   "source": [
    "class Session:\n",
    "    def __init__(self, number = 0):\n",
    "        self.number = number\n",
    "    \n",
    "    def __len__(self):\n",
    "        return self.number\n",
    "\n",
    "\n",
    "# default length is 0\n",
    "s1 = Session()\n",
    "print(len(s1))\n",
    "\n",
    "# giving custom length\n",
    "s2 = Session(6)\n",
    "print(len(s2))"
   ]
  },
  {
   "cell_type": "code",
   "execution_count": 53,
   "metadata": {},
   "outputs": [
    {
     "data": {
      "text/plain": [
       "['a', 'b', 'c']"
      ]
     },
     "execution_count": 53,
     "metadata": {},
     "output_type": "execute_result"
    }
   ],
   "source": [
    "#class list([iterable])\n",
    "#Rather than being a function, list is actually a mutable sequence type, \n",
    "#as documented in Lists and Sequence Types — list, tuple, range.\n",
    "\n",
    "\n",
    "list( ('a', 'b','c') )"
   ]
  },
  {
   "cell_type": "code",
   "execution_count": 54,
   "metadata": {},
   "outputs": [
    {
     "data": {
      "text/plain": [
       "True"
      ]
     },
     "execution_count": 54,
     "metadata": {},
     "output_type": "execute_result"
    }
   ],
   "source": [
    "#locals()\n",
    "#Update and return a dictionary representing the current local symbol table. \n",
    "#Free variables are returned by locals() when it is called in function blocks, \n",
    "#but not in class blocks. Note that at the module level, locals() and globals() are the same dictionary.\n",
    "\n",
    "\n",
    "locals() == globals()"
   ]
  },
  {
   "cell_type": "code",
   "execution_count": 22,
   "metadata": {},
   "outputs": [
    {
     "name": "stdout",
     "output_type": "stream",
     "text": [
      "[2, 4, 6, 8]\n"
     ]
    }
   ],
   "source": [
    "#map(function, iterable, ...)\n",
    "#Return an iterator that applies function to every item of iterable, yielding the results.\n",
    "#If additional iterable arguments are passed, function must take that many arguments \n",
    "#and is applied to the items from all iterables in parallel. With multiple iterables, \n",
    "#the iterator stops when the shortest iterable is exhausted. For cases where the function inputs are \n",
    "#already arranged into argument tuples, see itertools.starmap().\n",
    "\n",
    "# Python program to demonstrate working \n",
    "# of map(). \n",
    "\n",
    "# Return double of n \n",
    "def double(n): \n",
    "    return 2*n \n",
    "  \n",
    "# We double all numbers using map() \n",
    "numbers = (1, 2, 3, 4) \n",
    "result = map(double, numbers) \n",
    "print(list(result)) "
   ]
  },
  {
   "cell_type": "code",
   "execution_count": 50,
   "metadata": {},
   "outputs": [
    {
     "data": {
      "text/plain": [
       "8"
      ]
     },
     "execution_count": 50,
     "metadata": {},
     "output_type": "execute_result"
    }
   ],
   "source": [
    "#max(iterable, *[, key, default])\n",
    "#max(arg1, arg2, *args[, key])\n",
    "#Return the largest item in an iterable or the largest of two or more arguments.\n",
    "\n",
    "#If one positional argument is provided, it should be an iterable. \n",
    "#The largest item in the iterable is returned. If two or more positional arguments are provided, \n",
    "#the largest of the positional arguments is returned.\n",
    "\n",
    "#There are two optional keyword-only arguments. The key argument specifies a one-argument ordering \n",
    "#function like that used for list.sort(). The default argument specifies an object to return if the\n",
    "#provided iterable is empty. If the iterable is empty and default is not provided, a ValueError is raised.\n",
    "\n",
    "#If multiple items are maximal, the function returns the first one encountered. \n",
    "#This is consistent with other sort-stability preserving tools such \n",
    "#as sorted(iterable, key=keyfunc, reverse=True)[0] and heapq.nlargest(1, iterable, key=keyfunc).\n",
    "\n",
    "\n",
    "max((-7, 0, -2, 8)) # in numpy np.max() for arrays"
   ]
  },
  {
   "cell_type": "code",
   "execution_count": 52,
   "metadata": {},
   "outputs": [],
   "source": [
    "import numpy as np"
   ]
  },
  {
   "cell_type": "code",
   "execution_count": 53,
   "metadata": {},
   "outputs": [
    {
     "data": {
      "text/plain": [
       "8"
      ]
     },
     "execution_count": 53,
     "metadata": {},
     "output_type": "execute_result"
    }
   ],
   "source": [
    "np.max(np.array([-7, 0, -2, 8]))"
   ]
  },
  {
   "cell_type": "code",
   "execution_count": 57,
   "metadata": {},
   "outputs": [
    {
     "data": {
      "text/plain": [
       "<memory at 0x11157b348>"
      ]
     },
     "execution_count": 57,
     "metadata": {},
     "output_type": "execute_result"
    }
   ],
   "source": [
    "#memoryview(obj)\n",
    "#Return a “memory view” object created from the given argument. See Memory Views for more information.\n",
    "a = 1\n",
    "memoryview(bytes(a))"
   ]
  },
  {
   "cell_type": "code",
   "execution_count": 54,
   "metadata": {},
   "outputs": [
    {
     "data": {
      "text/plain": [
       "-7"
      ]
     },
     "execution_count": 54,
     "metadata": {},
     "output_type": "execute_result"
    }
   ],
   "source": [
    "#min(iterable, *[, key, default])\n",
    "#min(arg1, arg2, *args[, key])\n",
    "#Return the smallest item in an iterable or the smallest of two or more arguments.\n",
    "\n",
    "#If one positional argument is provided, it should be an iterable. \n",
    "#The smallest item in the iterable is returned. \n",
    "#If two or more positional arguments are provided, the smallest of the positional arguments is returned.\n",
    "\n",
    "#There are two optional keyword-only arguments. \n",
    "#The key argument specifies a one-argument ordering function like that used for list.sort(). \n",
    "#The default argument specifies an object to return if the provided iterable is empty. \n",
    "#If the iterable is empty and default is not provided, a ValueError is raised.\n",
    "\n",
    "#If multiple items are minimal, the function returns the first one encountered. \n",
    "#This is consistent with other sort-stability preserving tools such as sorted(iterable, key=keyfunc)[0] \n",
    "#and heapq.nsmallest(1, iterable, key=keyfunc).\n",
    "\n",
    "\n",
    "\n",
    "min((-7, 0, -2, 8))"
   ]
  },
  {
   "cell_type": "code",
   "execution_count": 56,
   "metadata": {},
   "outputs": [
    {
     "data": {
      "text/plain": [
       "-7"
      ]
     },
     "execution_count": 56,
     "metadata": {},
     "output_type": "execute_result"
    }
   ],
   "source": [
    "np.min((-7, 0, -2, 8)) # we will have a notebook in the future on all numpy functions :)"
   ]
  },
  {
   "cell_type": "code",
   "execution_count": 23,
   "metadata": {},
   "outputs": [
    {
     "name": "stdout",
     "output_type": "stream",
     "text": [
      "5\n",
      "9\n",
      "-1\n",
      "-1\n",
      "-1\n"
     ]
    }
   ],
   "source": [
    "#next(iterator[, default])\n",
    "#Retrieve the next item from the iterator by calling its __next__() method. \n",
    "#If default is given, it is returned if the iterator is exhausted, otherwise StopIteration is raised.\n",
    "\n",
    "\n",
    "random = [5, 9]\n",
    "\n",
    "# converting list to iterator\n",
    "randomIterator = iter(random)\n",
    "\n",
    "# Output: 5\n",
    "print(next(randomIterator, '-1')) # provide next() with default parameter '-1' as the sentinel\n",
    "# Output: 9\n",
    "print(next(randomIterator, '-1'))\n",
    "\n",
    "# randomIterator is exhausted\n",
    "# Output: '-1'\n",
    "print(next(randomIterator, '-1'))\n",
    "print(next(randomIterator, '-1'))\n",
    "print(next(randomIterator, '-1'))"
   ]
  },
  {
   "cell_type": "code",
   "execution_count": 59,
   "metadata": {},
   "outputs": [
    {
     "data": {
      "text/plain": [
       "'0o10'"
      ]
     },
     "execution_count": 59,
     "metadata": {},
     "output_type": "execute_result"
    }
   ],
   "source": [
    "#oct(x)\n",
    "#Convert an integer number to an octal string prefixed with “0o”. \n",
    "#The result is a valid Python expression. If x is not a Python int object, \n",
    "#it has to define an __index__() method that returns an integer. For example:\n",
    "\n",
    "\n",
    "a = 8\n",
    "oct(a)"
   ]
  },
  {
   "cell_type": "code",
   "execution_count": 14,
   "metadata": {},
   "outputs": [],
   "source": [
    "#open(file, mode='r', buffering=-1, encoding=None, errors=None, newline=None, closefd=True, opener=None)\n",
    "#Open file and return a corresponding file object. If the file cannot be opened, an OSError is raised.\n",
    "\n",
    "#file is a path-like object giving the pathname (absolute or relative to the current working directory) \n",
    "#of the file to be opened or an integer file descriptor of the file to be wrapped. \n",
    "#(If a file descriptor is given, it is closed when the returned I/O object is closed,\n",
    "#unless closefd is set to False.)\n",
    "\n",
    "\n",
    "# Example 6\n",
    "scripture_psalms_118 = \"\"\"118 O give thanks unto the Lord; for he is good: because his mercy endureth for ever.\n",
    "\n",
    "2 Let Israel now say, that his mercy endureth for ever.\n",
    "\n",
    "3 Let the house of Aaron now say, that his mercy endureth for ever.\n",
    "\n",
    "4 Let them now that fear the Lord say, that his mercy endureth for ever.\n",
    "\n",
    "5 I called upon the Lord in distress: the Lord answered me, and set me in a large place.\n",
    "\n",
    "6 The Lord is on my side; I will not fear: what can man do unto me?\n",
    "\n",
    "7 The Lord taketh my part with them that help me: therefore shall I see my desire upon them that hate me.\n",
    "\n",
    "8 It is better to trust in the Lord than to put confidence in man.\n",
    "\n",
    "9 It is better to trust in the Lord than to put confidence in princes.\n",
    "\n",
    "10 All nations compassed me about: but in the name of the Lord will I destroy them.\n",
    "\n",
    "11 They compassed me about; yea, they compassed me about: but in the name of the Lord I will destroy them.\n",
    "\n",
    "12 They compassed me about like bees: they are quenched as the fire of thorns: for in the name of the Lord I will destroy them.\n",
    "\n",
    "13 Thou hast thrust sore at me that I might fall: but the Lord helped me.\n",
    "\n",
    "14 The Lord is my strength and song, and is become my salvation.\n",
    "\n",
    "15 The voice of rejoicing and salvation is in the tabernacles of the righteous: the right hand of the Lord doeth valiantly.\n",
    "\n",
    "16 The right hand of the Lord is exalted: the right hand of the Lord doeth valiantly.\n",
    "\n",
    "17 I shall not die, but live, and declare the works of the Lord.\n",
    "\n",
    "18 The Lord hath chastened me sore: but he hath not given me over unto death.\n",
    "\n",
    "19 Open to me the gates of righteousness: I will go into them, and I will praise the Lord:\n",
    "\n",
    "20 This gate of the Lord, into which the righteous shall enter.\n",
    "\n",
    "21 I will praise thee: for thou hast heard me, and art become my salvation.\n",
    "\n",
    "22 The stone which the builders refused is become the head stone of the corner.\n",
    "\n",
    "23 This is the Lord's doing; it is marvellous in our eyes.\n",
    "\n",
    "24 This is the day which the Lord hath made; we will rejoice and be glad in it.\n",
    "\n",
    "25 Save now, I beseech thee, O Lord: O Lord, I beseech thee, send now prosperity.\n",
    "\n",
    "26 Blessed be he that cometh in the name of the Lord: we have blessed you out of the house of the Lord.\n",
    "\n",
    "27 God is the Lord, which hath shewed us light: bind the sacrifice with cords, even unto the horns of the altar.\n",
    "\n",
    "28 Thou art my God, and I will praise thee: thou art my God, I will exalt thee.\n",
    "\n",
    "29 O give thanks unto the Lord; for he is good: for his mercy endureth for ever.\"\"\"\n",
    "\n",
    "# open() in write mode the named text file\n",
    "with open('Scripture.txt', 'w') as f:\n",
    "    f.write(scripture_psalms_118)"
   ]
  },
  {
   "cell_type": "code",
   "execution_count": 85,
   "metadata": {},
   "outputs": [
    {
     "name": "stdout",
     "output_type": "stream",
     "text": [
      "53\n",
      "65\n",
      "36\n"
     ]
    }
   ],
   "source": [
    "#ord(c)\n",
    "#Given a string representing one Unicode character, return an integer representing \n",
    "#the Unicode code point of that character. For example, ord('a') returns the integer 97 \n",
    "#and ord('€') (Euro sign) returns 8364. This is the inverse of chr().\n",
    "\n",
    "\n",
    "# code point of integer\n",
    "print(ord('5'))\n",
    "\n",
    "# code point of alphabet \n",
    "print(ord('A'))\n",
    "\n",
    "# code point of character\n",
    "print(ord('$'))"
   ]
  },
  {
   "cell_type": "code",
   "execution_count": 57,
   "metadata": {},
   "outputs": [
    {
     "data": {
      "text/plain": [
       "4"
      ]
     },
     "execution_count": 57,
     "metadata": {},
     "output_type": "execute_result"
    }
   ],
   "source": [
    "#pow(x, y[, z])\n",
    "#Return x to the power y; if z is present, return x to the power y, modulo z \n",
    "#(computed more efficiently than pow(x, y) % z). The two-argument form pow(x, y) \n",
    "#is equivalent to using the power operator: x**y.\n",
    "\n",
    "#The arguments must have numeric types. With mixed operand types, \n",
    "#the coercion rules for binary arithmetic operators apply.\n",
    "#For int operands, the result has the same type as the operands (after coercion) \n",
    "#unless the second argument is negative; in that case, all arguments are converted to float \n",
    "#and a float result is delivered. For example, 10**2 returns 100, but 10**-2 returns 0.01. \n",
    "#If the second argument is negative, the third argument must be omitted. \n",
    "#If z is present, x and y must be of integer types, and y must be non-negative.\n",
    "\n",
    "\n",
    "pow(2, 2)"
   ]
  },
  {
   "cell_type": "code",
   "execution_count": 71,
   "metadata": {},
   "outputs": [
    {
     "name": "stdout",
     "output_type": "stream",
     "text": [
      "**, **, **, **, **, **, **, **, **, **\n"
     ]
    }
   ],
   "source": [
    "#print(*objects, sep=' ', end='\\n', file=sys.stdout, flush=False)\n",
    "#Print objects to the text stream file, separated by sep and followed by end. \n",
    "#sep, end, file and flush, if present, must be given as keyword arguments.\n",
    "\n",
    "#All non-keyword arguments are converted to strings like str() does and written to the stream,\n",
    "#separated by sep and followed by end. Both sep and end must be strings; \n",
    "#they can also be None, which means to use the default values. If no objects are given, print() \n",
    "#will just write end.\n",
    "\n",
    "#The file argument must be an object with a write(string) method; \n",
    "#if it is not present or None, sys.stdout will be used. Since printed arguments are converted to text strings, \n",
    "#print() cannot be used with binary mode file objects. For these, use file.write(...) instead.\n",
    "\n",
    "#Whether output is buffered is usually determined by file, but if the flush keyword argument is true, \n",
    "#the stream is forcibly flushed.\n",
    "\n",
    "\n",
    "print(*['**']*10, sep=', ')"
   ]
  },
  {
   "cell_type": "code",
   "execution_count": 87,
   "metadata": {},
   "outputs": [
    {
     "name": "stdout",
     "output_type": "stream",
     "text": [
      "a = 000005\n",
      "\n",
      "\n",
      "a = 05"
     ]
    }
   ],
   "source": [
    "a = 5\n",
    "print(\"a = \", a, sep='00000', end='\\n\\n\\n')\n",
    "print(\"a = \", a, sep='0', end='')"
   ]
  },
  {
   "cell_type": "code",
   "execution_count": 72,
   "metadata": {},
   "outputs": [],
   "source": [
    "#class property(fget=None, fset=None, fdel=None, doc=None)\n",
    "#Return a property attribute.\n",
    "\n",
    "#fget is a function for getting an attribute value. \n",
    "#fset is a function for setting an attribute value. \n",
    "#fdel is a function for deleting an attribute value.\n",
    "#And doc creates a docstring for the attribute.\n",
    "\n",
    "#A typical use is to define a managed attribute x:\n",
    "\n",
    "\n",
    "\n",
    "class C:\n",
    "    def __init__(self):\n",
    "        self._x = None\n",
    "\n",
    "    def getx(self):\n",
    "        return self._x\n",
    "\n",
    "    def setx(self, value):\n",
    "        self._x = value\n",
    "\n",
    "    def delx(self):\n",
    "        del self._x\n",
    "\n",
    "    x = property(getx, setx, delx, \"I'm the 'x' property.\")\n",
    "    \n",
    "    \n",
    "    \n",
    "#If c is an instance of C, c.x will invoke the getter, c.x = value will invoke the setter and \n",
    "#del c.x the deleter.\n",
    "\n",
    "#If given, doc will be the docstring of the property attribute. \n",
    "#Otherwise, the property will copy fget’s docstring (if it exists). \n",
    "#This makes it possible to create read-only properties easily using property() as a decorator:    "
   ]
  },
  {
   "cell_type": "code",
   "execution_count": 88,
   "metadata": {},
   "outputs": [
    {
     "name": "stdout",
     "output_type": "stream",
     "text": [
      "Getting name\n",
      "The name is: Adam\n",
      "Setting name to John\n",
      "Deleting name\n"
     ]
    }
   ],
   "source": [
    "class Person:\n",
    "    def __init__(self, name):\n",
    "        self._name = name\n",
    "\n",
    "    @property\n",
    "    def name(self):\n",
    "        print('Getting name')\n",
    "        return self._name\n",
    "\n",
    "    @name.setter\n",
    "    def name(self, value):\n",
    "        print('Setting name to ' + value)\n",
    "        self._name = value\n",
    "\n",
    "    @name.deleter\n",
    "    def name(self):\n",
    "        print('Deleting name')\n",
    "        del self._name\n",
    "\n",
    "p = Person('Adam')\n",
    "print('The name is:', p.name)\n",
    "\n",
    "p.name = 'John'\n",
    "\n",
    "del p.name"
   ]
  },
  {
   "cell_type": "code",
   "execution_count": 63,
   "metadata": {},
   "outputs": [
    {
     "data": {
      "text/plain": [
       "range(0, 10)"
      ]
     },
     "execution_count": 63,
     "metadata": {},
     "output_type": "execute_result"
    }
   ],
   "source": [
    "#range(stop)\n",
    "#range(start, stop[, step])\n",
    "#Rather than being a function, \n",
    "#range is actually an immutable sequence type, as documented in Ranges and Sequence Types — list, tuple, range.\n",
    "\n",
    "range(0,10)"
   ]
  },
  {
   "cell_type": "code",
   "execution_count": 4,
   "metadata": {},
   "outputs": [
    {
     "name": "stdout",
     "output_type": "stream",
     "text": [
      "0\n",
      "1\n",
      "2\n",
      "3\n",
      "4\n",
      "5\n",
      "6\n",
      "7\n",
      "8\n",
      "9\n"
     ]
    }
   ],
   "source": [
    "for i in range(0,10,1):\n",
    "    print(i)"
   ]
  },
  {
   "cell_type": "code",
   "execution_count": 5,
   "metadata": {},
   "outputs": [
    {
     "name": "stdout",
     "output_type": "stream",
     "text": [
      "10\n",
      "9\n",
      "8\n",
      "7\n",
      "6\n",
      "5\n",
      "4\n",
      "3\n",
      "2\n",
      "1\n"
     ]
    }
   ],
   "source": [
    "for i in range(10,0,-1):\n",
    "    print(i) # Note range stops 1 before 0 the stopping value passed"
   ]
  },
  {
   "cell_type": "code",
   "execution_count": 11,
   "metadata": {},
   "outputs": [
    {
     "data": {
      "text/plain": [
       "'length(5)X(3)width Rectangle'"
      ]
     },
     "execution_count": 11,
     "metadata": {},
     "output_type": "execute_result"
    }
   ],
   "source": [
    "#repr(object)\n",
    "#Return a string containing a printable representation of an object.\n",
    "#For many types, this function makes an attempt to return a string that would yield an object \n",
    "#with the same value when passed to eval(), otherwise the representation is a string enclosed \n",
    "#in angle brackets that contains the name of the type of the object together with additional \n",
    "#information often including the name and address of the object. \n",
    "#A class can control what this function returns for its instances by defining a __repr__() method.\n",
    "\n",
    "\n",
    "class Rectangle:\n",
    "    def __init__(self, length, width):\n",
    "        self.length = length\n",
    "        self.width = width\n",
    "        \n",
    "    def __repr__(self):\n",
    "        return 'length({})X({})width Rectangle'.format(self.length, self.width)\n",
    "\n",
    "    def area(self):\n",
    "        return self.length * self.width\n",
    "\n",
    "    def perimeter(self):\n",
    "        return 2 * self.length + 2 * self.width\n",
    "\n",
    "# Here we declare that the Square class inherits from the Rectangle class\n",
    "class Square(Rectangle):\n",
    "    def __init__(self, length):\n",
    "        super().__init__(length, length)\n",
    "\n",
    "small_rect = Rectangle(5, 3)\n",
    "repr(small_rect) #calling repr() on Rectangle instance. "
   ]
  },
  {
   "cell_type": "code",
   "execution_count": 89,
   "metadata": {},
   "outputs": [
    {
     "name": "stdout",
     "output_type": "stream",
     "text": [
      "['n', 'o', 'h', 't', 'y', 'P']\n",
      "['n', 'o', 'h', 't', 'y', 'P']\n",
      "[8, 7, 6, 5]\n",
      "[5, 3, 4, 2, 1]\n"
     ]
    }
   ],
   "source": [
    "#reversed(seq)\n",
    "#Return a reverse iterator. \n",
    "#seq must be an object which has a __reversed__() method or supports the sequence protocol \n",
    "#(the __len__() method and the __getitem__() method with integer arguments starting at 0).\n",
    "\n",
    "\n",
    "# for string\n",
    "seqString = 'Python'\n",
    "print(list(reversed(seqString)))\n",
    "\n",
    "# for tuple\n",
    "seqTuple = ('P', 'y', 't', 'h', 'o', 'n')\n",
    "print(list(reversed(seqTuple)))\n",
    "\n",
    "# for range\n",
    "seqRange = range(5, 9)\n",
    "print(list(reversed(seqRange)))\n",
    "\n",
    "# for list\n",
    "seqList = [1, 2, 4, 3, 5]\n",
    "print(list(reversed(seqList)))\n",
    "\n"
   ]
  },
  {
   "cell_type": "code",
   "execution_count": 90,
   "metadata": {},
   "outputs": [
    {
     "name": "stdout",
     "output_type": "stream",
     "text": [
      "['u', 'o', 'i', 'e', 'a']\n"
     ]
    }
   ],
   "source": [
    "class Vowels:\n",
    "    vowels = ['a', 'e', 'i', 'o', 'u']\n",
    "\n",
    "    def __reversed__(self):\n",
    "        return reversed(self.vowels)\n",
    "\n",
    "v = Vowels()\n",
    "print(list(reversed(v)))"
   ]
  },
  {
   "cell_type": "code",
   "execution_count": 74,
   "metadata": {},
   "outputs": [
    {
     "data": {
      "text/plain": [
       "17.4"
      ]
     },
     "execution_count": 74,
     "metadata": {},
     "output_type": "execute_result"
    }
   ],
   "source": [
    "#round(number[, ndigits])\n",
    "#Return number rounded to ndigits precision after the decimal point. \n",
    "#If ndigits is omitted or is None, it returns the nearest integer to its input.\n",
    "\n",
    "#For the built-in types supporting round(), \n",
    "#values are rounded to the closest multiple of 10 to the power minus ndigits; \n",
    "#if two multiples are equally close, rounding is done toward the even choice \n",
    "#(so, for example, both round(0.5) and round(-0.5) are 0, and round(1.5) is 2).\n",
    "#Any integer value is valid for ndigits (positive, zero, or negative). \n",
    "#The return value is an integer if ndigits is omitted or None.\n",
    "#Otherwise the return value has the same type as number.\n",
    "\n",
    "round(17.45, 1) # strange it will always round down! "
   ]
  },
  {
   "cell_type": "code",
   "execution_count": 76,
   "metadata": {},
   "outputs": [
    {
     "data": {
      "text/plain": [
       "{-3, 0, 1, 2}"
      ]
     },
     "execution_count": 76,
     "metadata": {},
     "output_type": "execute_result"
    }
   ],
   "source": [
    "#class set([iterable])\n",
    "#Return a new set object, optionally with elements taken from iterable. \n",
    "#set is a built-in class. See set and Set Types — set, frozenset for documentation about this class.\n",
    "\n",
    "#For other containers see the built-in frozenset, list, tuple, and dict classes, \n",
    "#as well as the collections module.\n",
    "\n",
    "\n",
    "set((-3, -3, 2, 1, 1, 0))\n",
    "# takes out extra -3, and 1"
   ]
  },
  {
   "cell_type": "code",
   "execution_count": 80,
   "metadata": {},
   "outputs": [
    {
     "name": "stdout",
     "output_type": "stream",
     "text": [
      "Caleb has how many arms?\n",
      " Ans: 3\n"
     ]
    }
   ],
   "source": [
    "#setattr(object, name, value)\n",
    "#This is the counterpart of getattr(). \n",
    "#The arguments are an object, a string and an arbitrary value. \n",
    "#The string may name an existing attribute or a new attribute. \n",
    "#The function assigns the value to the attribute, provided the object allows it. \n",
    "#For example, setattr(x, 'foobar', 123) is equivalent to x.foobar = 123.\n",
    "\n",
    "\n",
    "\n",
    "setattr(Caleb, 'arms', 3)\n",
    "print(\"Caleb has how many arms?\\n Ans: {0}\".format(Caleb.arms))"
   ]
  },
  {
   "cell_type": "code",
   "execution_count": null,
   "metadata": {},
   "outputs": [],
   "source": [
    "#class slice(stop)\n",
    "#class slice(start, stop[, step])\n",
    "#Return a slice object representing the set of indices specified by range(start, stop, step). \n",
    "#The start and step arguments default to None. Slice objects have read-only data attributes start,\n",
    "#stop and step which merely return the argument values (or their default). \n",
    "#They have no other explicit functionality; however they are used by Numerical Python\n",
    "#and other third party extensions. Slice objects are also generated when extended indexing syntax is used.\n",
    "#For example: a[start:stop:step] or a[start:stop, i]. See itertools.islice() \n",
    "#for an alternate version that returns an iterator.\n",
    "\n",
    "\n",
    "# contains indices (0, 1, 2)\n",
    "print(slice(3))\n",
    "\n",
    "# contains indices (1, 3)\n",
    "print(slice(1, 5, 2))"
   ]
  },
  {
   "cell_type": "code",
   "execution_count": 91,
   "metadata": {},
   "outputs": [
    {
     "name": "stdout",
     "output_type": "stream",
     "text": [
      "Pyt\n",
      "yh\n"
     ]
    }
   ],
   "source": [
    "pyString = 'Python'\n",
    "\n",
    "# contains indices (0, 1, 2)\n",
    "# i.e. P, y and t\n",
    "sObject = slice(3)\n",
    "\n",
    "print(pyString[sObject])\n",
    "\n",
    "# contains indices (1, 3)\n",
    "# i.e. y and h\n",
    "sObject = slice(1, 5, 2)\n",
    "\n",
    "print(pyString[sObject])"
   ]
  },
  {
   "cell_type": "code",
   "execution_count": 92,
   "metadata": {},
   "outputs": [
    {
     "name": "stdout",
     "output_type": "stream",
     "text": [
      "['P', 'y', 't']\n",
      "('y', 'h')\n"
     ]
    }
   ],
   "source": [
    "pyList = ['P', 'y', 't', 'h', 'o', 'n']\n",
    "pyTuple = ('P', 'y', 't', 'h', 'o', 'n')\n",
    "\n",
    "# contains indices (0, 1, 2)\n",
    "# i.e. P, y and t\n",
    "sObject = slice(3)\n",
    "\n",
    "# slice a list\n",
    "print(pyList[sObject])\n",
    "\n",
    "# contains indices (1, 3)\n",
    "# i.e. y and h\n",
    "sObject = slice(1, 5, 2)\n",
    "\n",
    "# slice a tuple\n",
    "print(pyTuple[sObject])"
   ]
  },
  {
   "cell_type": "code",
   "execution_count": 93,
   "metadata": {},
   "outputs": [
    {
     "name": "stdout",
     "output_type": "stream",
     "text": [
      "Pyt\n",
      "yh\n"
     ]
    }
   ],
   "source": [
    "pyString = 'Python'\n",
    "\n",
    "# contains indices (0, 1, 2)\n",
    "# i.e. P, y and t\n",
    "print(pyString[0:3])\n",
    "\n",
    "# contains indices (1, 3)\n",
    "# i.e. y and h\n",
    "print(pyString[1:5:2])"
   ]
  },
  {
   "cell_type": "code",
   "execution_count": 94,
   "metadata": {},
   "outputs": [
    {
     "name": "stdout",
     "output_type": "stream",
     "text": [
      "['a', 'e', 'i', 'o', 'u']\n",
      "['P', 'h', 'n', 'o', 't', 'y']\n",
      "['a', 'e', 'i', 'o', 'u']\n"
     ]
    }
   ],
   "source": [
    "#sorted(iterable, *, key=None, reverse=False)\n",
    "#Return a new sorted list from the items in iterable.\n",
    "\n",
    "#Has two optional arguments which must be specified as keyword arguments.\n",
    "\n",
    "#key specifies a function of one argument that is used to extract a comparison key from each element\n",
    "#in iterable (for example, key=str.lower). The default value is None (compare the elements directly).\n",
    "\n",
    "#reverse is a boolean value. \n",
    "#If set to True, then the list elements are sorted as if each comparison were reversed.\n",
    "\n",
    "#Use functools.cmp_to_key() to convert an old-style cmp function to a key function.\n",
    "\n",
    "#The built-in sorted() function is guaranteed to be stable. \n",
    "#A sort is stable if it guarantees not to change the relative order of elements that compare equal \n",
    "#— this is helpful for sorting in multiple passes (for example, sort by department, then by salary grade).\n",
    "\n",
    "#For sorting examples and a brief sorting tutorial, see Sorting HOW TO.\n",
    "\n",
    "\n",
    "# vowels list\n",
    "pyList = ['e', 'a', 'u', 'o', 'i']\n",
    "print(sorted(pyList))\n",
    "\n",
    "# string \n",
    "pyString = 'Python'\n",
    "print(sorted(pyString))\n",
    "\n",
    "# vowels tuple\n",
    "pyTuple = ('e', 'a', 'u', 'o', 'i')\n",
    "print(sorted(pyTuple))\n",
    "\n"
   ]
  },
  {
   "cell_type": "code",
   "execution_count": 95,
   "metadata": {},
   "outputs": [
    {
     "name": "stdout",
     "output_type": "stream",
     "text": [
      "['u', 'o', 'i', 'e', 'a']\n",
      "['u', 'o', 'i', 'e', 'a']\n",
      "['u', 'o', 'i', 'e', 'a']\n"
     ]
    }
   ],
   "source": [
    "# set\n",
    "pySet = {'e', 'a', 'u', 'o', 'i'}\n",
    "print(sorted(pySet, reverse=True))\n",
    "\n",
    "# dictionary\n",
    "pyDict = {'e': 1, 'a': 2, 'u': 3, 'o': 4, 'i': 5}\n",
    "print(sorted(pyDict, reverse=True))\n",
    "\n",
    "# frozen set\n",
    "pyFSet = frozenset(('e', 'a', 'u', 'o', 'i'))\n",
    "print(sorted(pyFSet, reverse=True))"
   ]
  },
  {
   "cell_type": "code",
   "execution_count": 96,
   "metadata": {},
   "outputs": [
    {
     "name": "stdout",
     "output_type": "stream",
     "text": [
      "Sorted list: [(4, 1), (2, 2), (1, 3), (3, 4)]\n"
     ]
    }
   ],
   "source": [
    "# take second element for sort\n",
    "def takeSecond(elem):\n",
    "    return elem[1]\n",
    "\n",
    "# random list\n",
    "random = [(2, 2), (3, 4), (4, 1), (1, 3)]\n",
    "\n",
    "# sort list with key\n",
    "sortedList = sorted(random, key=takeSecond)\n",
    "\n",
    "# print list\n",
    "print('Sorted list:', sortedList)"
   ]
  },
  {
   "cell_type": "code",
   "execution_count": 73,
   "metadata": {},
   "outputs": [
    {
     "name": "stdout",
     "output_type": "stream",
     "text": [
      "The sum is: 15\n"
     ]
    }
   ],
   "source": [
    "#@staticmethod\n",
    "#Transform a method into a static method.\n",
    "\n",
    "#A static method does not receive an implicit first argument. \n",
    "#To declare a static method, use this idiom:\n",
    "\n",
    "\n",
    "#class C:\n",
    "    #@staticmethod\n",
    "    #def f(arg1, arg2, ...): ...\n",
    "    \n",
    "class Mathematics:\n",
    "\n",
    "    def addNumbers(x, y):\n",
    "        return x + y\n",
    "\n",
    "# create addNumbers static method\n",
    "Mathematics.addNumbers = staticmethod(Mathematics.addNumbers)\n",
    "\n",
    "print('The sum is:', Mathematics.addNumbers(5, 10))"
   ]
  },
  {
   "cell_type": "code",
   "execution_count": 74,
   "metadata": {},
   "outputs": [
    {
     "name": "stdout",
     "output_type": "stream",
     "text": [
      "Equal\n"
     ]
    }
   ],
   "source": [
    "class Dates:\n",
    "    def __init__(self, date):\n",
    "        self.date = date\n",
    "        \n",
    "    def getDate(self):\n",
    "        return self.date\n",
    "\n",
    "    @staticmethod\n",
    "    def toDashDate(date):\n",
    "        return date.replace(\"/\", \"-\")\n",
    "\n",
    "date = Dates(\"15-12-2016\")\n",
    "dateFromDB = \"15/12/2016\"\n",
    "dateWithDash = Dates.toDashDate(dateFromDB)\n",
    "\n",
    "if(date.getDate() == dateWithDash):\n",
    "    print(\"Equal\")\n",
    "else:\n",
    "    print(\"Unequal\")"
   ]
  },
  {
   "cell_type": "code",
   "execution_count": 75,
   "metadata": {},
   "outputs": [
    {
     "name": "stdout",
     "output_type": "stream",
     "text": [
      "Equal\n"
     ]
    }
   ],
   "source": [
    "class Dates:\n",
    "    def __init__(self, date):\n",
    "        self.date = date\n",
    "        \n",
    "    def getDate(self):\n",
    "        return self.date\n",
    "\n",
    "    @staticmethod\n",
    "    def toDashDate(date):\n",
    "        return date.replace(\"/\", \"-\")\n",
    "\n",
    "class DatesWithSlashes(Dates):\n",
    "    def getDate(self):\n",
    "        return Dates.toDashDate(self.date)\n",
    "\n",
    "date = Dates(\"15-12-2016\")\n",
    "dateFromDB = DatesWithSlashes(\"15/12/2016\")\n",
    "\n",
    "if(date.getDate() == dateFromDB.getDate()):\n",
    "    print(\"Equal\")\n",
    "else:\n",
    "    print(\"Unequal\")"
   ]
  },
  {
   "cell_type": "code",
   "execution_count": 82,
   "metadata": {},
   "outputs": [
    {
     "name": "stdout",
     "output_type": "stream",
     "text": [
      "7\n"
     ]
    }
   ],
   "source": [
    "#class str(object='')\n",
    "#class str(object=b'', encoding='utf-8', errors='strict')\n",
    "#Return a str version of object. See str() for details.\n",
    "\n",
    "#str is the built-in string class. For general information about strings, see Text Sequence Type — str.\n",
    "num = 7\n",
    "str_num = str(num)\n",
    "print(str_num)"
   ]
  },
  {
   "cell_type": "code",
   "execution_count": 83,
   "metadata": {},
   "outputs": [
    {
     "data": {
      "text/plain": [
       "str"
      ]
     },
     "execution_count": 83,
     "metadata": {},
     "output_type": "execute_result"
    }
   ],
   "source": [
    "type(str_num)"
   ]
  },
  {
   "cell_type": "code",
   "execution_count": 84,
   "metadata": {},
   "outputs": [
    {
     "data": {
      "text/plain": [
       "0"
      ]
     },
     "execution_count": 84,
     "metadata": {},
     "output_type": "execute_result"
    }
   ],
   "source": [
    "#sum(iterable[, start])\n",
    "#Sums start and the items of an iterable from left to right and returns the total. \n",
    "#start defaults to 0. The iterable’s items are normally numbers, \n",
    "#and the start value is not allowed to be a string.\n",
    "\n",
    "#For some use cases, there are good alternatives to sum(). \n",
    "#The preferred, fast way to concatenate a sequence of strings is by calling ''.join(sequence). \n",
    "#To add floating point values with extended precision, see math.fsum(). \n",
    "#To concatenate a series of iterables, consider using itertools.chain().\n",
    "\n",
    "sum((-1,0,1,-1,0,1,-1,0,1))"
   ]
  },
  {
   "cell_type": "code",
   "execution_count": 15,
   "metadata": {},
   "outputs": [
    {
     "name": "stdout",
     "output_type": "stream",
     "text": [
      "Length of small square:  2\n",
      "Width of small square:  2\n",
      "Area of small square:  4\n",
      "Perimeter of small square:  8\n"
     ]
    }
   ],
   "source": [
    "#super([type[, object-or-type]])\n",
    "#Return a proxy object that delegates method calls to a parent or sibling class of type. \n",
    "#This is useful for accessing inherited methods that have been overridden in a class. \n",
    "#The search order is same as that used by getattr() except that the type itself is skipped.\n",
    "\n",
    "#The __mro__ attribute of the type lists the method resolution search order used by both getattr() and super().\n",
    "#The attribute is dynamic and can change whenever the inheritance hierarchy is updated.\n",
    "\n",
    "class Rectangle:\n",
    "    def __init__(self, length, width):\n",
    "        self.length = length\n",
    "        self.width = width\n",
    "        \n",
    "    def __repr__(self):\n",
    "        return 'length({})X({})width Rectangle'.format(self.length, self.width)\n",
    "\n",
    "    def area(self):\n",
    "        return self.length * self.width\n",
    "\n",
    "    def perimeter(self):\n",
    "        return 2 * self.length + 2 * self.width\n",
    "\n",
    "# Here we declare that the Square class inherits from the Rectangle class\n",
    "class Square(Rectangle):\n",
    "    def __init__(self, length):\n",
    "        super().__init__(length, length)\n",
    "        \n",
    "small_square = Square(2)\n",
    "print(\"Length of small square: \", small_square.length)\n",
    "print(\"Width of small square: \", small_square.width)\n",
    "print(\"Area of small square: \", small_square.area())\n",
    "print(\"Perimeter of small square: \", small_square.perimeter())"
   ]
  },
  {
   "cell_type": "code",
   "execution_count": 97,
   "metadata": {},
   "outputs": [
    {
     "name": "stdout",
     "output_type": "stream",
     "text": [
      "t1= ()\n",
      "t2= (1, 4, 6)\n",
      "t1= ('P', 'y', 't', 'h', 'o', 'n')\n",
      "t1= (1, 2)\n"
     ]
    }
   ],
   "source": [
    "#tuple([iterable])\n",
    "#Rather than being a function, tuple is actually an immutable sequence type, \n",
    "#as documented in Tuples and Sequence Types — list, tuple, range.\n",
    "\n",
    "t1 = tuple()\n",
    "print('t1=', t1)\n",
    "\n",
    "# creating a tuple from a list\n",
    "t2 = tuple([1, 4, 6])\n",
    "print('t2=', t2)\n",
    "\n",
    "# creating a tuple from a string\n",
    "t1 = tuple('Python')\n",
    "print('t1=',t1)\n",
    "\n",
    "# creating a tuple from a dictionary\n",
    "t1 = tuple({1: 'one', 2: 'two'})\n",
    "print('t1=',t1)"
   ]
  },
  {
   "cell_type": "code",
   "execution_count": 85,
   "metadata": {},
   "outputs": [
    {
     "data": {
      "text/plain": [
       "__main__.Person"
      ]
     },
     "execution_count": 85,
     "metadata": {},
     "output_type": "execute_result"
    }
   ],
   "source": [
    "#class type(object)\n",
    "#class type(name, bases, dict)\n",
    "#With one argument, return the type of an object. \n",
    "#The return value is a type object and generally the same object as returned by object.__class__.\n",
    "\n",
    "#The isinstance() built-in function is recommended for testing the type of an object,\n",
    "#because it takes subclasses into account.\n",
    "\n",
    "\n",
    "type(Caleb)"
   ]
  },
  {
   "cell_type": "code",
   "execution_count": 86,
   "metadata": {},
   "outputs": [
    {
     "name": "stdout",
     "output_type": "stream",
     "text": [
      "<class '__main__.Person'>\n"
     ]
    }
   ],
   "source": [
    "print(Caleb.__class__)"
   ]
  },
  {
   "cell_type": "code",
   "execution_count": 98,
   "metadata": {},
   "outputs": [
    {
     "name": "stdout",
     "output_type": "stream",
     "text": [
      "{'a': 5, 'b': 10}\n"
     ]
    }
   ],
   "source": [
    "#vars([object])\n",
    "#Return the __dict__ attribute for a module, class, instance, or any other object with a __dict__ attribute.\n",
    "\n",
    "#Objects such as modules and instances have an updateable __dict__ attribute; \n",
    "#however, other objects may have write restrictions on their __dict__ attributes \n",
    "#(for example, classes use a types.MappingProxyType to prevent direct dictionary updates).\n",
    "\n",
    "#Without an argument, vars() acts like locals(). \n",
    "#Note, the locals dictionary is only useful for reads since updates to the locals dictionary are ignored.\n",
    "\n",
    "class Foo:\n",
    "    def __init__(self, a = 5, b = 10):\n",
    "        self.a = a\n",
    "        self.b = b\n",
    "\n",
    "InstanceOfFoo = Foo()\n",
    "print(vars(InstanceOfFoo))\n"
   ]
  },
  {
   "cell_type": "code",
   "execution_count": 102,
   "metadata": {
    "scrolled": true
   },
   "outputs": [],
   "source": [
    "#vars(list)"
   ]
  },
  {
   "cell_type": "code",
   "execution_count": 103,
   "metadata": {
    "scrolled": true
   },
   "outputs": [],
   "source": [
    "#vars(str)"
   ]
  },
  {
   "cell_type": "code",
   "execution_count": 104,
   "metadata": {
    "scrolled": true
   },
   "outputs": [],
   "source": [
    "#vars(dict)"
   ]
  },
  {
   "cell_type": "code",
   "execution_count": null,
   "metadata": {},
   "outputs": [],
   "source": [
    "#zip(*iterables)\n",
    "#Make an iterator that aggregates elements from each of the iterables.\n",
    "\n",
    "#Returns an iterator of tuples, where the i-th tuple contains the i-th element from each of the argument sequences\n",
    "#or iterables. The iterator stops when the shortest input iterable is exhausted. \n",
    "#With a single iterable argument, it returns an iterator of 1-tuples. \n",
    "#With no arguments, it returns an empty iterator.\n",
    "\n",
    ">>> x = [1, 2, 3]\n",
    ">>> y = [4, 5, 6]\n",
    ">>> zipped = zip(x, y)\n",
    ">>> list(zipped)\n",
    "[(1, 4), (2, 5), (3, 6)]\n",
    ">>> x2, y2 = zip(*zip(x, y))\n",
    ">>> x == list(x2) and y == list(y2)\n",
    "True"
   ]
  },
  {
   "cell_type": "code",
   "execution_count": 105,
   "metadata": {},
   "outputs": [
    {
     "name": "stdout",
     "output_type": "stream",
     "text": [
      "[]\n",
      "{(1, 'one'), (3, 'three'), (2, 'two')}\n"
     ]
    }
   ],
   "source": [
    "numberList = [1, 2, 3]\n",
    "strList = ['one', 'two', 'three']\n",
    "\n",
    "# No iterables are passed\n",
    "result = zip()\n",
    "\n",
    "# Converting itertor to list\n",
    "resultList = list(result)\n",
    "print(resultList)\n",
    "\n",
    "# Two iterables are passed\n",
    "result = zip(numberList, strList)\n",
    "\n",
    "# Converting itertor to set\n",
    "resultSet = set(result)\n",
    "print(resultSet)"
   ]
  },
  {
   "cell_type": "code",
   "execution_count": 106,
   "metadata": {},
   "outputs": [
    {
     "name": "stdout",
     "output_type": "stream",
     "text": [
      "{(1, 'ONE'), (2, 'TWO'), (3, 'THREE')}\n",
      "{(1, 'one', 'ONE'), (2, 'two', 'TWO')}\n"
     ]
    }
   ],
   "source": [
    "numbersList = [1, 2, 3]\n",
    "strList = ['one', 'two']\n",
    "numbersTuple = ('ONE', 'TWO', 'THREE', 'FOUR')\n",
    "\n",
    "result = zip(numbersList, numbersTuple)\n",
    "\n",
    "# Converting to set\n",
    "resultSet = set(result)\n",
    "print(resultSet)\n",
    "\n",
    "result = zip(numbersList, strList, numbersTuple)\n",
    "\n",
    "# Converting to set\n",
    "resultSet = set(result)\n",
    "print(resultSet)"
   ]
  },
  {
   "cell_type": "code",
   "execution_count": 107,
   "metadata": {},
   "outputs": [
    {
     "name": "stdout",
     "output_type": "stream",
     "text": [
      "[('x', 3), ('y', 4), ('z', 5)]\n",
      "c = ('x', 'y', 'z')\n",
      "v = (3, 4, 5)\n"
     ]
    }
   ],
   "source": [
    "coordinate = ['x', 'y', 'z']\n",
    "value = [3, 4, 5, 0, 9]\n",
    "\n",
    "result = zip(coordinate, value)\n",
    "resultList = list(result)\n",
    "print(resultList)\n",
    "\n",
    "c, v =  zip(*resultList)\n",
    "print('c =', c)\n",
    "print('v =', v)"
   ]
  },
  {
   "cell_type": "code",
   "execution_count": 69,
   "metadata": {},
   "outputs": [],
   "source": [
    "#__import__(name, globals=None, locals=None, fromlist=(), level=0)\n",
    "#Note This is an advanced function that is not needed in everyday Python programming,\n",
    "#unlike importlib.import_module().\n",
    "#This function is invoked by the import statement.\n",
    "\n",
    "#ex already used to access np.max() from numpy module\n",
    "import numpy as np\n",
    "#dir(np)"
   ]
  }
 ],
 "metadata": {
  "kernelspec": {
   "display_name": "Python 3",
   "language": "python",
   "name": "python3"
  },
  "language_info": {
   "codemirror_mode": {
    "name": "ipython",
    "version": 3
   },
   "file_extension": ".py",
   "mimetype": "text/x-python",
   "name": "python",
   "nbconvert_exporter": "python",
   "pygments_lexer": "ipython3",
   "version": "3.7.2"
  }
 },
 "nbformat": 4,
 "nbformat_minor": 2
}
